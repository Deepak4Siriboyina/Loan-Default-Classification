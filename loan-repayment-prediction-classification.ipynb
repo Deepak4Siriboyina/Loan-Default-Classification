{
 "cells": [
  {
   "cell_type": "markdown",
   "id": "be3418f4",
   "metadata": {
    "papermill": {
     "duration": 0.024291,
     "end_time": "2023-12-27T14:49:26.436705",
     "exception": false,
     "start_time": "2023-12-27T14:49:26.412414",
     "status": "completed"
    },
    "tags": []
   },
   "source": [
    "## 1. Problem Statement\n",
    "---\n",
    "\n",
    "- Exploring publicly available data from __LendingClub.com__.\n",
    "\n",
    "- Lending Club connects people who need money __(borrowers)__ with people who have money __(investors)__.\n",
    "\n",
    "  - To create a model that will help predict people who have a profile of having a __high probability of paying back__.\n",
    "\n",
    "  \n",
    "  - This data is from _before they even went public_."
   ]
  },
  {
   "cell_type": "markdown",
   "id": "8e21002b",
   "metadata": {
    "papermill": {
     "duration": 0.023708,
     "end_time": "2023-12-27T14:49:26.484398",
     "exception": false,
     "start_time": "2023-12-27T14:49:26.460690",
     "status": "completed"
    },
    "tags": []
   },
   "source": [
    "### 1.1. Objective:\n",
    "- The project aims to classify and predict whether borrowers will fully repay their loans or not."
   ]
  },
  {
   "cell_type": "markdown",
   "id": "5f67458a",
   "metadata": {
    "papermill": {
     "duration": 0.023388,
     "end_time": "2023-12-27T14:49:26.532740",
     "exception": false,
     "start_time": "2023-12-27T14:49:26.509352",
     "status": "completed"
    },
    "tags": []
   },
   "source": [
    "## 2. Importing Libraries"
   ]
  },
  {
   "cell_type": "code",
   "execution_count": 1,
   "id": "c22933ec",
   "metadata": {
    "execution": {
     "iopub.execute_input": "2023-12-27T14:49:26.582280Z",
     "iopub.status.busy": "2023-12-27T14:49:26.581888Z",
     "iopub.status.idle": "2023-12-27T14:49:28.886015Z",
     "shell.execute_reply": "2023-12-27T14:49:28.885051Z"
    },
    "papermill": {
     "duration": 2.332401,
     "end_time": "2023-12-27T14:49:28.888618",
     "exception": false,
     "start_time": "2023-12-27T14:49:26.556217",
     "status": "completed"
    },
    "tags": []
   },
   "outputs": [],
   "source": [
    "import numpy as np\n",
    "import pandas as pd\n",
    "import seaborn as sns\n",
    "import matplotlib.pyplot as plt\n",
    "from sklearn.preprocessing import StandardScaler   "
   ]
  },
  {
   "cell_type": "code",
   "execution_count": 2,
   "id": "6f2737cd",
   "metadata": {
    "execution": {
     "iopub.execute_input": "2023-12-27T14:49:28.939197Z",
     "iopub.status.busy": "2023-12-27T14:49:28.938623Z",
     "iopub.status.idle": "2023-12-27T14:49:29.221360Z",
     "shell.execute_reply": "2023-12-27T14:49:29.220379Z"
    },
    "papermill": {
     "duration": 0.310835,
     "end_time": "2023-12-27T14:49:29.223935",
     "exception": false,
     "start_time": "2023-12-27T14:49:28.913100",
     "status": "completed"
    },
    "tags": []
   },
   "outputs": [],
   "source": [
    "from sklearn.model_selection import train_test_split                             \n",
    "from sklearn.model_selection import cross_val_score                              \n",
    "from sklearn.tree import DecisionTreeClassifier                                   \n",
    "\n",
    "from sklearn.metrics import precision_recall_curve                                \n",
    "from sklearn.metrics import classification_report \n",
    "from sklearn.metrics import confusion_matrix\n",
    "from sklearn.metrics import ConfusionMatrixDisplay\n",
    "from sklearn.model_selection import GridSearchCV\n",
    "from sklearn.metrics import accuracy_score"
   ]
  },
  {
   "cell_type": "markdown",
   "id": "beb67066",
   "metadata": {
    "papermill": {
     "duration": 0.023679,
     "end_time": "2023-12-27T14:49:29.271633",
     "exception": false,
     "start_time": "2023-12-27T14:49:29.247954",
     "status": "completed"
    },
    "tags": []
   },
   "source": [
    "## 3. Data Acquisition"
   ]
  },
  {
   "cell_type": "code",
   "execution_count": 3,
   "id": "c79eb7fd",
   "metadata": {
    "execution": {
     "iopub.execute_input": "2023-12-27T14:49:29.324276Z",
     "iopub.status.busy": "2023-12-27T14:49:29.323564Z",
     "iopub.status.idle": "2023-12-27T14:49:29.404245Z",
     "shell.execute_reply": "2023-12-27T14:49:29.403183Z"
    },
    "papermill": {
     "duration": 0.110238,
     "end_time": "2023-12-27T14:49:29.406529",
     "exception": false,
     "start_time": "2023-12-27T14:49:29.296291",
     "status": "completed"
    },
    "tags": []
   },
   "outputs": [
    {
     "name": "stdout",
     "output_type": "stream",
     "text": [
      "Data Shape: (9578, 14)\n"
     ]
    },
    {
     "data": {
      "text/html": [
       "<div>\n",
       "<style scoped>\n",
       "    .dataframe tbody tr th:only-of-type {\n",
       "        vertical-align: middle;\n",
       "    }\n",
       "\n",
       "    .dataframe tbody tr th {\n",
       "        vertical-align: top;\n",
       "    }\n",
       "\n",
       "    .dataframe thead th {\n",
       "        text-align: right;\n",
       "    }\n",
       "</style>\n",
       "<table border=\"1\" class=\"dataframe\">\n",
       "  <thead>\n",
       "    <tr style=\"text-align: right;\">\n",
       "      <th></th>\n",
       "      <th>credit.policy</th>\n",
       "      <th>purpose</th>\n",
       "      <th>int.rate</th>\n",
       "      <th>installment</th>\n",
       "      <th>log.annual.inc</th>\n",
       "      <th>dti</th>\n",
       "      <th>fico</th>\n",
       "      <th>days.with.cr.line</th>\n",
       "      <th>revol.bal</th>\n",
       "      <th>revol.util</th>\n",
       "      <th>inq.last.6mths</th>\n",
       "      <th>delinq.2yrs</th>\n",
       "      <th>pub.rec</th>\n",
       "      <th>not.fully.paid</th>\n",
       "    </tr>\n",
       "  </thead>\n",
       "  <tbody>\n",
       "    <tr>\n",
       "      <th>0</th>\n",
       "      <td>1</td>\n",
       "      <td>debt_consolidation</td>\n",
       "      <td>0.1189</td>\n",
       "      <td>829.10</td>\n",
       "      <td>11.350407</td>\n",
       "      <td>19.48</td>\n",
       "      <td>737</td>\n",
       "      <td>5639.958333</td>\n",
       "      <td>28854</td>\n",
       "      <td>52.1</td>\n",
       "      <td>0</td>\n",
       "      <td>0</td>\n",
       "      <td>0</td>\n",
       "      <td>0</td>\n",
       "    </tr>\n",
       "    <tr>\n",
       "      <th>1</th>\n",
       "      <td>1</td>\n",
       "      <td>credit_card</td>\n",
       "      <td>0.1071</td>\n",
       "      <td>228.22</td>\n",
       "      <td>11.082143</td>\n",
       "      <td>14.29</td>\n",
       "      <td>707</td>\n",
       "      <td>2760.000000</td>\n",
       "      <td>33623</td>\n",
       "      <td>76.7</td>\n",
       "      <td>0</td>\n",
       "      <td>0</td>\n",
       "      <td>0</td>\n",
       "      <td>0</td>\n",
       "    </tr>\n",
       "    <tr>\n",
       "      <th>2</th>\n",
       "      <td>1</td>\n",
       "      <td>debt_consolidation</td>\n",
       "      <td>0.1357</td>\n",
       "      <td>366.86</td>\n",
       "      <td>10.373491</td>\n",
       "      <td>11.63</td>\n",
       "      <td>682</td>\n",
       "      <td>4710.000000</td>\n",
       "      <td>3511</td>\n",
       "      <td>25.6</td>\n",
       "      <td>1</td>\n",
       "      <td>0</td>\n",
       "      <td>0</td>\n",
       "      <td>0</td>\n",
       "    </tr>\n",
       "    <tr>\n",
       "      <th>3</th>\n",
       "      <td>1</td>\n",
       "      <td>debt_consolidation</td>\n",
       "      <td>0.1008</td>\n",
       "      <td>162.34</td>\n",
       "      <td>11.350407</td>\n",
       "      <td>8.10</td>\n",
       "      <td>712</td>\n",
       "      <td>2699.958333</td>\n",
       "      <td>33667</td>\n",
       "      <td>73.2</td>\n",
       "      <td>1</td>\n",
       "      <td>0</td>\n",
       "      <td>0</td>\n",
       "      <td>0</td>\n",
       "    </tr>\n",
       "    <tr>\n",
       "      <th>4</th>\n",
       "      <td>1</td>\n",
       "      <td>credit_card</td>\n",
       "      <td>0.1426</td>\n",
       "      <td>102.92</td>\n",
       "      <td>11.299732</td>\n",
       "      <td>14.97</td>\n",
       "      <td>667</td>\n",
       "      <td>4066.000000</td>\n",
       "      <td>4740</td>\n",
       "      <td>39.5</td>\n",
       "      <td>0</td>\n",
       "      <td>1</td>\n",
       "      <td>0</td>\n",
       "      <td>0</td>\n",
       "    </tr>\n",
       "  </tbody>\n",
       "</table>\n",
       "</div>"
      ],
      "text/plain": [
       "   credit.policy             purpose  int.rate  installment  log.annual.inc  \\\n",
       "0              1  debt_consolidation    0.1189       829.10       11.350407   \n",
       "1              1         credit_card    0.1071       228.22       11.082143   \n",
       "2              1  debt_consolidation    0.1357       366.86       10.373491   \n",
       "3              1  debt_consolidation    0.1008       162.34       11.350407   \n",
       "4              1         credit_card    0.1426       102.92       11.299732   \n",
       "\n",
       "     dti  fico  days.with.cr.line  revol.bal  revol.util  inq.last.6mths  \\\n",
       "0  19.48   737        5639.958333      28854        52.1               0   \n",
       "1  14.29   707        2760.000000      33623        76.7               0   \n",
       "2  11.63   682        4710.000000       3511        25.6               1   \n",
       "3   8.10   712        2699.958333      33667        73.2               1   \n",
       "4  14.97   667        4066.000000       4740        39.5               0   \n",
       "\n",
       "   delinq.2yrs  pub.rec  not.fully.paid  \n",
       "0            0        0               0  \n",
       "1            0        0               0  \n",
       "2            0        0               0  \n",
       "3            0        0               0  \n",
       "4            1        0               0  "
      ]
     },
     "execution_count": 3,
     "metadata": {},
     "output_type": "execute_result"
    }
   ],
   "source": [
    "data = pd.read_csv('/kaggle/input/lending-club-data/loan_data.csv')\n",
    "print('Data Shape:', data.shape)\n",
    "data.head()"
   ]
  },
  {
   "cell_type": "markdown",
   "id": "737cb5c6",
   "metadata": {
    "papermill": {
     "duration": 0.024598,
     "end_time": "2023-12-27T14:49:29.513116",
     "exception": false,
     "start_time": "2023-12-27T14:49:29.488518",
     "status": "completed"
    },
    "tags": []
   },
   "source": [
    "\n",
    "\n",
    "## 4. Data Description\n",
    "\n",
    "- The dataset has been provided by lending club and its description is shown below in the table.\n"
   ]
  },
  {
   "cell_type": "markdown",
   "id": "63a86fba",
   "metadata": {
    "papermill": {
     "duration": 0.024774,
     "end_time": "2023-12-27T14:49:29.562872",
     "exception": false,
     "start_time": "2023-12-27T14:49:29.538098",
     "status": "completed"
    },
    "tags": []
   },
   "source": [
    "| Records | Features | Dataset Size |\n",
    "| :-- | :-- | :-- |\n",
    "| 9578 | 14 | 733 KB | \n",
    "\n",
    "</br>\n",
    "\n",
    "|Id|Feature|Description|\n",
    "|:--|:--|:--|\n",
    "|01|**credit.policy**|1 if the customer meets the credit underwriting criteria of LendingClub.com, and 0 otherwise.|\n",
    "|02|**purpose**|The purpose to get the loan.|\n",
    "|03|**int.rate**|\tThe interest rate of the loan, as a proportion (a rate of 11% would be stored as 0.11). |\n",
    "|||Borrowers judged by LendingClub.com to be more risky are assigned higher interest rates.|\n",
    "|04|**installment**|The monthly installments owed by the borrower if the loan is funded.|\n",
    "|05|**log.annual.inc**|The natural log of the self-reported annual income of the borrower.|\n",
    "|06|**dti**|The debt-to-income ratio of the borrower (amount of debt divided by annual income).|\n",
    "|07|**fico**|The FICO credit score of the borrower.|\n",
    "|08|**days.with.cr.line**|The number of days the borrower has had a credit line.|\n",
    "|09|**revol.bal**|The borrower's revolving balance (amount unpaid at the end of the credit card billing cycle).|\n",
    "|10|**revol.util**|The borrower's revolving line utilization rate (the amount of the credit line used relative to total credit available).|\n",
    "|11|**inq.last.6mths**|The borrower's number of inquiries by creditors in the last 6 months.|\n",
    "|12|**delinq.2yrs**|The number of times the borrower had been 30+ days past due on a payment in the past 2 years.|\n",
    "|13|**pub.rec**|The borrower's number of derogatory public records (bankruptcy filings, tax liens, or judgments).|\n",
    "|14|**not.fully.paid**|Whether the loan amount fully paid or not.|\n"
   ]
  },
  {
   "cell_type": "markdown",
   "id": "1b2bedaa",
   "metadata": {
    "papermill": {
     "duration": 0.024486,
     "end_time": "2023-12-27T14:49:29.612799",
     "exception": false,
     "start_time": "2023-12-27T14:49:29.588313",
     "status": "completed"
    },
    "tags": []
   },
   "source": [
    "## 5. Data Preprocessing"
   ]
  },
  {
   "cell_type": "code",
   "execution_count": 4,
   "id": "587c8bf8",
   "metadata": {
    "execution": {
     "iopub.execute_input": "2023-12-27T14:49:29.664850Z",
     "iopub.status.busy": "2023-12-27T14:49:29.664439Z",
     "iopub.status.idle": "2023-12-27T14:49:29.723617Z",
     "shell.execute_reply": "2023-12-27T14:49:29.722819Z"
    },
    "papermill": {
     "duration": 0.088229,
     "end_time": "2023-12-27T14:49:29.725944",
     "exception": false,
     "start_time": "2023-12-27T14:49:29.637715",
     "status": "completed"
    },
    "tags": []
   },
   "outputs": [
    {
     "data": {
      "text/html": [
       "<div>\n",
       "<style scoped>\n",
       "    .dataframe tbody tr th:only-of-type {\n",
       "        vertical-align: middle;\n",
       "    }\n",
       "\n",
       "    .dataframe tbody tr th {\n",
       "        vertical-align: top;\n",
       "    }\n",
       "\n",
       "    .dataframe thead th {\n",
       "        text-align: right;\n",
       "    }\n",
       "</style>\n",
       "<table border=\"1\" class=\"dataframe\">\n",
       "  <thead>\n",
       "    <tr style=\"text-align: right;\">\n",
       "      <th></th>\n",
       "      <th>credit.policy</th>\n",
       "      <th>int.rate</th>\n",
       "      <th>installment</th>\n",
       "      <th>log.annual.inc</th>\n",
       "      <th>dti</th>\n",
       "      <th>fico</th>\n",
       "      <th>days.with.cr.line</th>\n",
       "      <th>revol.bal</th>\n",
       "      <th>revol.util</th>\n",
       "      <th>inq.last.6mths</th>\n",
       "      <th>delinq.2yrs</th>\n",
       "      <th>pub.rec</th>\n",
       "      <th>not.fully.paid</th>\n",
       "    </tr>\n",
       "  </thead>\n",
       "  <tbody>\n",
       "    <tr>\n",
       "      <th>count</th>\n",
       "      <td>9578.000000</td>\n",
       "      <td>9578.000000</td>\n",
       "      <td>9578.000000</td>\n",
       "      <td>9578.000000</td>\n",
       "      <td>9578.000000</td>\n",
       "      <td>9578.000000</td>\n",
       "      <td>9578.000000</td>\n",
       "      <td>9.578000e+03</td>\n",
       "      <td>9578.000000</td>\n",
       "      <td>9578.000000</td>\n",
       "      <td>9578.000000</td>\n",
       "      <td>9578.000000</td>\n",
       "      <td>9578.000000</td>\n",
       "    </tr>\n",
       "    <tr>\n",
       "      <th>mean</th>\n",
       "      <td>0.804970</td>\n",
       "      <td>0.122640</td>\n",
       "      <td>319.089413</td>\n",
       "      <td>10.932117</td>\n",
       "      <td>12.606679</td>\n",
       "      <td>710.846314</td>\n",
       "      <td>4560.767197</td>\n",
       "      <td>1.691396e+04</td>\n",
       "      <td>46.799236</td>\n",
       "      <td>1.577469</td>\n",
       "      <td>0.163708</td>\n",
       "      <td>0.062122</td>\n",
       "      <td>0.160054</td>\n",
       "    </tr>\n",
       "    <tr>\n",
       "      <th>std</th>\n",
       "      <td>0.396245</td>\n",
       "      <td>0.026847</td>\n",
       "      <td>207.071301</td>\n",
       "      <td>0.614813</td>\n",
       "      <td>6.883970</td>\n",
       "      <td>37.970537</td>\n",
       "      <td>2496.930377</td>\n",
       "      <td>3.375619e+04</td>\n",
       "      <td>29.014417</td>\n",
       "      <td>2.200245</td>\n",
       "      <td>0.546215</td>\n",
       "      <td>0.262126</td>\n",
       "      <td>0.366676</td>\n",
       "    </tr>\n",
       "    <tr>\n",
       "      <th>min</th>\n",
       "      <td>0.000000</td>\n",
       "      <td>0.060000</td>\n",
       "      <td>15.670000</td>\n",
       "      <td>7.547502</td>\n",
       "      <td>0.000000</td>\n",
       "      <td>612.000000</td>\n",
       "      <td>178.958333</td>\n",
       "      <td>0.000000e+00</td>\n",
       "      <td>0.000000</td>\n",
       "      <td>0.000000</td>\n",
       "      <td>0.000000</td>\n",
       "      <td>0.000000</td>\n",
       "      <td>0.000000</td>\n",
       "    </tr>\n",
       "    <tr>\n",
       "      <th>25%</th>\n",
       "      <td>1.000000</td>\n",
       "      <td>0.103900</td>\n",
       "      <td>163.770000</td>\n",
       "      <td>10.558414</td>\n",
       "      <td>7.212500</td>\n",
       "      <td>682.000000</td>\n",
       "      <td>2820.000000</td>\n",
       "      <td>3.187000e+03</td>\n",
       "      <td>22.600000</td>\n",
       "      <td>0.000000</td>\n",
       "      <td>0.000000</td>\n",
       "      <td>0.000000</td>\n",
       "      <td>0.000000</td>\n",
       "    </tr>\n",
       "    <tr>\n",
       "      <th>50%</th>\n",
       "      <td>1.000000</td>\n",
       "      <td>0.122100</td>\n",
       "      <td>268.950000</td>\n",
       "      <td>10.928884</td>\n",
       "      <td>12.665000</td>\n",
       "      <td>707.000000</td>\n",
       "      <td>4139.958333</td>\n",
       "      <td>8.596000e+03</td>\n",
       "      <td>46.300000</td>\n",
       "      <td>1.000000</td>\n",
       "      <td>0.000000</td>\n",
       "      <td>0.000000</td>\n",
       "      <td>0.000000</td>\n",
       "    </tr>\n",
       "    <tr>\n",
       "      <th>75%</th>\n",
       "      <td>1.000000</td>\n",
       "      <td>0.140700</td>\n",
       "      <td>432.762500</td>\n",
       "      <td>11.291293</td>\n",
       "      <td>17.950000</td>\n",
       "      <td>737.000000</td>\n",
       "      <td>5730.000000</td>\n",
       "      <td>1.824950e+04</td>\n",
       "      <td>70.900000</td>\n",
       "      <td>2.000000</td>\n",
       "      <td>0.000000</td>\n",
       "      <td>0.000000</td>\n",
       "      <td>0.000000</td>\n",
       "    </tr>\n",
       "    <tr>\n",
       "      <th>max</th>\n",
       "      <td>1.000000</td>\n",
       "      <td>0.216400</td>\n",
       "      <td>940.140000</td>\n",
       "      <td>14.528354</td>\n",
       "      <td>29.960000</td>\n",
       "      <td>827.000000</td>\n",
       "      <td>17639.958330</td>\n",
       "      <td>1.207359e+06</td>\n",
       "      <td>119.000000</td>\n",
       "      <td>33.000000</td>\n",
       "      <td>13.000000</td>\n",
       "      <td>5.000000</td>\n",
       "      <td>1.000000</td>\n",
       "    </tr>\n",
       "  </tbody>\n",
       "</table>\n",
       "</div>"
      ],
      "text/plain": [
       "       credit.policy     int.rate  installment  log.annual.inc          dti  \\\n",
       "count    9578.000000  9578.000000  9578.000000     9578.000000  9578.000000   \n",
       "mean        0.804970     0.122640   319.089413       10.932117    12.606679   \n",
       "std         0.396245     0.026847   207.071301        0.614813     6.883970   \n",
       "min         0.000000     0.060000    15.670000        7.547502     0.000000   \n",
       "25%         1.000000     0.103900   163.770000       10.558414     7.212500   \n",
       "50%         1.000000     0.122100   268.950000       10.928884    12.665000   \n",
       "75%         1.000000     0.140700   432.762500       11.291293    17.950000   \n",
       "max         1.000000     0.216400   940.140000       14.528354    29.960000   \n",
       "\n",
       "              fico  days.with.cr.line     revol.bal   revol.util  \\\n",
       "count  9578.000000        9578.000000  9.578000e+03  9578.000000   \n",
       "mean    710.846314        4560.767197  1.691396e+04    46.799236   \n",
       "std      37.970537        2496.930377  3.375619e+04    29.014417   \n",
       "min     612.000000         178.958333  0.000000e+00     0.000000   \n",
       "25%     682.000000        2820.000000  3.187000e+03    22.600000   \n",
       "50%     707.000000        4139.958333  8.596000e+03    46.300000   \n",
       "75%     737.000000        5730.000000  1.824950e+04    70.900000   \n",
       "max     827.000000       17639.958330  1.207359e+06   119.000000   \n",
       "\n",
       "       inq.last.6mths  delinq.2yrs      pub.rec  not.fully.paid  \n",
       "count     9578.000000  9578.000000  9578.000000     9578.000000  \n",
       "mean         1.577469     0.163708     0.062122        0.160054  \n",
       "std          2.200245     0.546215     0.262126        0.366676  \n",
       "min          0.000000     0.000000     0.000000        0.000000  \n",
       "25%          0.000000     0.000000     0.000000        0.000000  \n",
       "50%          1.000000     0.000000     0.000000        0.000000  \n",
       "75%          2.000000     0.000000     0.000000        0.000000  \n",
       "max         33.000000    13.000000     5.000000        1.000000  "
      ]
     },
     "execution_count": 4,
     "metadata": {},
     "output_type": "execute_result"
    }
   ],
   "source": [
    "data.describe()"
   ]
  },
  {
   "cell_type": "markdown",
   "id": "32fe049a",
   "metadata": {
    "papermill": {
     "duration": 0.024768,
     "end_time": "2023-12-27T14:49:29.776035",
     "exception": false,
     "start_time": "2023-12-27T14:49:29.751267",
     "status": "completed"
    },
    "tags": []
   },
   "source": [
    "**Observations:**\n",
    "\n",
    "> **credit.policy:**\n",
    "- We observe that nearly three-quarters of the data in the field 'credit.policy' have a value of **1**, with a mean of 0.80, indicating a close proximity to 1.\n",
    "- Implies that majority of the customers meets the criteria of lending club.\n",
    "\n",
    "> **int.rate:**\n",
    "- The average interest rate is **12.26%**.\n",
    "- 25% of the customers are bound with the interest rate of 10.4%\n",
    "- 50% of the customers are bound with the interest rate of 12.2%.\n",
    "- 75% of the customers are bound with the interest rate of 14%.\n",
    "\n",
    "> **dti:**\n",
    "- The majority **(75%)** of customers exhibit a debt equivalent to **17.9%** of their respective income."
   ]
  },
  {
   "cell_type": "code",
   "execution_count": 5,
   "id": "850d67ba",
   "metadata": {
    "execution": {
     "iopub.execute_input": "2023-12-27T14:49:29.828931Z",
     "iopub.status.busy": "2023-12-27T14:49:29.828232Z",
     "iopub.status.idle": "2023-12-27T14:49:29.852690Z",
     "shell.execute_reply": "2023-12-27T14:49:29.851888Z"
    },
    "papermill": {
     "duration": 0.053626,
     "end_time": "2023-12-27T14:49:29.855227",
     "exception": false,
     "start_time": "2023-12-27T14:49:29.801601",
     "status": "completed"
    },
    "tags": []
   },
   "outputs": [
    {
     "name": "stdout",
     "output_type": "stream",
     "text": [
      "<class 'pandas.core.frame.DataFrame'>\n",
      "RangeIndex: 9578 entries, 0 to 9577\n",
      "Data columns (total 14 columns):\n",
      " #   Column             Non-Null Count  Dtype  \n",
      "---  ------             --------------  -----  \n",
      " 0   credit.policy      9578 non-null   int64  \n",
      " 1   purpose            9578 non-null   object \n",
      " 2   int.rate           9578 non-null   float64\n",
      " 3   installment        9578 non-null   float64\n",
      " 4   log.annual.inc     9578 non-null   float64\n",
      " 5   dti                9578 non-null   float64\n",
      " 6   fico               9578 non-null   int64  \n",
      " 7   days.with.cr.line  9578 non-null   float64\n",
      " 8   revol.bal          9578 non-null   int64  \n",
      " 9   revol.util         9578 non-null   float64\n",
      " 10  inq.last.6mths     9578 non-null   int64  \n",
      " 11  delinq.2yrs        9578 non-null   int64  \n",
      " 12  pub.rec            9578 non-null   int64  \n",
      " 13  not.fully.paid     9578 non-null   int64  \n",
      "dtypes: float64(6), int64(7), object(1)\n",
      "memory usage: 1.0+ MB\n"
     ]
    }
   ],
   "source": [
    "data.info()"
   ]
  },
  {
   "cell_type": "markdown",
   "id": "cb199248",
   "metadata": {
    "papermill": {
     "duration": 0.025157,
     "end_time": "2023-12-27T14:49:29.906367",
     "exception": false,
     "start_time": "2023-12-27T14:49:29.881210",
     "status": "completed"
    },
    "tags": []
   },
   "source": [
    "**Observation:**\n",
    "\n",
    "- We observe the absence of **null data**, and all features have the correct data types."
   ]
  },
  {
   "cell_type": "markdown",
   "id": "ca536e5f",
   "metadata": {
    "papermill": {
     "duration": 0.026404,
     "end_time": "2023-12-27T14:49:29.958017",
     "exception": false,
     "start_time": "2023-12-27T14:49:29.931613",
     "status": "completed"
    },
    "tags": []
   },
   "source": [
    "- Function that transforms credit.policy and not.fully.paid to correct data type."
   ]
  },
  {
   "cell_type": "code",
   "execution_count": 6,
   "id": "a572a7be",
   "metadata": {
    "execution": {
     "iopub.execute_input": "2023-12-27T14:49:30.010028Z",
     "iopub.status.busy": "2023-12-27T14:49:30.009634Z",
     "iopub.status.idle": "2023-12-27T14:49:30.014719Z",
     "shell.execute_reply": "2023-12-27T14:49:30.013683Z"
    },
    "papermill": {
     "duration": 0.033665,
     "end_time": "2023-12-27T14:49:30.016840",
     "exception": false,
     "start_time": "2023-12-27T14:49:29.983175",
     "status": "completed"
    },
    "tags": []
   },
   "outputs": [],
   "source": [
    "def transformdtype(feature=None, type=None):\n",
    "      data[feature] = data[feature].astype(type)"
   ]
  },
  {
   "cell_type": "code",
   "execution_count": 7,
   "id": "f9d5f63a",
   "metadata": {
    "execution": {
     "iopub.execute_input": "2023-12-27T14:49:30.069290Z",
     "iopub.status.busy": "2023-12-27T14:49:30.068536Z",
     "iopub.status.idle": "2023-12-27T14:49:30.075810Z",
     "shell.execute_reply": "2023-12-27T14:49:30.075080Z"
    },
    "papermill": {
     "duration": 0.036095,
     "end_time": "2023-12-27T14:49:30.078049",
     "exception": false,
     "start_time": "2023-12-27T14:49:30.041954",
     "status": "completed"
    },
    "tags": []
   },
   "outputs": [],
   "source": [
    "transformdtype(feature = 'credit.policy', type = 'int')\n",
    "transformdtype(feature = 'not.fully.paid', type = 'int')"
   ]
  },
  {
   "cell_type": "markdown",
   "id": "b04ef91f",
   "metadata": {
    "papermill": {
     "duration": 0.024965,
     "end_time": "2023-12-27T14:49:30.128675",
     "exception": false,
     "start_time": "2023-12-27T14:49:30.103710",
     "status": "completed"
    },
    "tags": []
   },
   "source": [
    "## 6. Exploratory Data Analysis"
   ]
  },
  {
   "cell_type": "markdown",
   "id": "71573a84",
   "metadata": {
    "papermill": {
     "duration": 0.024851,
     "end_time": "2023-12-27T14:49:30.178618",
     "exception": false,
     "start_time": "2023-12-27T14:49:30.153767",
     "status": "completed"
    },
    "tags": []
   },
   "source": [
    "- Function that generates distribution of fico feature for each credit policy."
   ]
  },
  {
   "cell_type": "code",
   "execution_count": 8,
   "id": "caa738eb",
   "metadata": {
    "execution": {
     "iopub.execute_input": "2023-12-27T14:49:30.231286Z",
     "iopub.status.busy": "2023-12-27T14:49:30.230529Z",
     "iopub.status.idle": "2023-12-27T14:49:30.236737Z",
     "shell.execute_reply": "2023-12-27T14:49:30.236021Z"
    },
    "papermill": {
     "duration": 0.034874,
     "end_time": "2023-12-27T14:49:30.238810",
     "exception": false,
     "start_time": "2023-12-27T14:49:30.203936",
     "status": "completed"
    },
    "tags": []
   },
   "outputs": [],
   "source": [
    "def ficoandcredpol(data=None):\n",
    "    plt.figure(figsize = (15,7))\n",
    "    sns.histplot(data= data, x= 'fico', hue= 'credit.policy', kde =True)\n",
    "    \n",
    "    plt.xticks(size=12)\n",
    "    plt.yticks(size=12)\n",
    "    plt.xlabel('Fico', size=14)\n",
    "    plt.ylabel('Credit Policy', size =14)\n",
    "    plt.title(label='Frequency Distribution of Fico vs Credit Policy', size=16)\n",
    "    plt.show()"
   ]
  },
  {
   "cell_type": "code",
   "execution_count": 9,
   "id": "f3984f33",
   "metadata": {
    "execution": {
     "iopub.execute_input": "2023-12-27T14:49:30.295408Z",
     "iopub.status.busy": "2023-12-27T14:49:30.294214Z",
     "iopub.status.idle": "2023-12-27T14:49:31.071447Z",
     "shell.execute_reply": "2023-12-27T14:49:31.070293Z"
    },
    "papermill": {
     "duration": 0.809452,
     "end_time": "2023-12-27T14:49:31.074030",
     "exception": false,
     "start_time": "2023-12-27T14:49:30.264578",
     "status": "completed"
    },
    "tags": []
   },
   "outputs": [
    {
     "data": {
      "image/png": "[encoded data removed]",
      "text/plain": [
       "<Figure size 1500x700 with 1 Axes>"
      ]
     },
     "metadata": {},
     "output_type": "display_data"
    }
   ],
   "source": [
    "ficoandcredpol(data)"
   ]
  },
  {
   "cell_type": "markdown",
   "id": "917a1fef",
   "metadata": {
    "papermill": {
     "duration": 0.026136,
     "end_time": "2023-12-27T14:49:31.126946",
     "exception": false,
     "start_time": "2023-12-27T14:49:31.100810",
     "status": "completed"
    },
    "tags": []
   },
   "source": [
    "- Function that generates distribution of fico feature concerning not fully paid feature.</h4>"
   ]
  },
  {
   "cell_type": "code",
   "execution_count": 10,
   "id": "2d43a78c",
   "metadata": {
    "execution": {
     "iopub.execute_input": "2023-12-27T14:49:31.181461Z",
     "iopub.status.busy": "2023-12-27T14:49:31.181033Z",
     "iopub.status.idle": "2023-12-27T14:49:31.188524Z",
     "shell.execute_reply": "2023-12-27T14:49:31.187470Z"
    },
    "papermill": {
     "duration": 0.037581,
     "end_time": "2023-12-27T14:49:31.190774",
     "exception": false,
     "start_time": "2023-12-27T14:49:31.153193",
     "status": "completed"
    },
    "tags": []
   },
   "outputs": [],
   "source": [
    "def ficonotfullypaid(data=None):\n",
    "    plt.figure(figsize = (15,8))\n",
    "    sns.histplot(data= data, x = 'fico', hue = 'not.fully.paid', kde =True)\n",
    "    \n",
    "    plt.xticks(size=12)\n",
    "    plt.yticks(size=12)    \n",
    "    plt.xlabel('Fico', size=14)\n",
    "    plt.ylabel('Not Fully Paid', size =14)\n",
    "    plt.title(label='Frequency Distribution of Fico vs Not Fully Paid', size=16)\n",
    "    plt.show()"
   ]
  },
  {
   "cell_type": "code",
   "execution_count": 11,
   "id": "766f7efa",
   "metadata": {
    "execution": {
     "iopub.execute_input": "2023-12-27T14:49:31.245260Z",
     "iopub.status.busy": "2023-12-27T14:49:31.244827Z",
     "iopub.status.idle": "2023-12-27T14:49:31.940994Z",
     "shell.execute_reply": "2023-12-27T14:49:31.940217Z"
    },
    "papermill": {
     "duration": 0.726332,
     "end_time": "2023-12-27T14:49:31.943262",
     "exception": false,
     "start_time": "2023-12-27T14:49:31.216930",
     "status": "completed"
    },
    "tags": []
   },
   "outputs": [
    {
     "data": {
      "image/png": "[encoded data removed]",
      "text/plain": [
       "<Figure size 1500x800 with 1 Axes>"
      ]
     },
     "metadata": {},
     "output_type": "display_data"
    }
   ],
   "source": [
    "ficonotfullypaid(data)"
   ]
  },
  {
   "cell_type": "markdown",
   "id": "6b85e499",
   "metadata": {
    "papermill": {
     "duration": 0.026936,
     "end_time": "2023-12-27T14:49:31.997514",
     "exception": false,
     "start_time": "2023-12-27T14:49:31.970578",
     "status": "completed"
    },
    "tags": []
   },
   "source": [
    "- Function that shows distribution of purpose along the data."
   ]
  },
  {
   "cell_type": "code",
   "execution_count": 12,
   "id": "356a30e3",
   "metadata": {
    "execution": {
     "iopub.execute_input": "2023-12-27T14:49:32.054827Z",
     "iopub.status.busy": "2023-12-27T14:49:32.054104Z",
     "iopub.status.idle": "2023-12-27T14:49:32.452980Z",
     "shell.execute_reply": "2023-12-27T14:49:32.451821Z"
    },
    "papermill": {
     "duration": 0.430958,
     "end_time": "2023-12-27T14:49:32.455783",
     "exception": false,
     "start_time": "2023-12-27T14:49:32.024825",
     "status": "completed"
    },
    "tags": []
   },
   "outputs": [
    {
     "data": {
      "image/png": "[encoded data removed]",
      "text/plain": [
       "<Figure size 1500x800 with 1 Axes>"
      ]
     },
     "metadata": {},
     "output_type": "display_data"
    }
   ],
   "source": [
    "plt.figure(figsize = (15,8))\n",
    "data['purpose'].value_counts().plot.bar(color='seagreen')\n",
    "\n",
    "plt.xticks(size=12)\n",
    "plt.yticks(size=12)\n",
    "plt.xlabel(xlabel='Purpose', size=14)\n",
    "plt.ylabel(ylabel='Frequency', size=14)\n",
    "plt.title(label='Purpose Distribution', size=16)\n",
    "plt.show()"
   ]
  },
  {
   "cell_type": "markdown",
   "id": "9bd7e37d",
   "metadata": {
    "papermill": {
     "duration": 0.028737,
     "end_time": "2023-12-27T14:49:32.513445",
     "exception": false,
     "start_time": "2023-12-27T14:49:32.484708",
     "status": "completed"
    },
    "tags": []
   },
   "source": [
    "- Function that shows association between purpose and not fully paid feature."
   ]
  },
  {
   "cell_type": "code",
   "execution_count": 13,
   "id": "41cd4fb9",
   "metadata": {
    "execution": {
     "iopub.execute_input": "2023-12-27T14:49:32.572464Z",
     "iopub.status.busy": "2023-12-27T14:49:32.572001Z",
     "iopub.status.idle": "2023-12-27T14:49:32.579503Z",
     "shell.execute_reply": "2023-12-27T14:49:32.578168Z"
    },
    "papermill": {
     "duration": 0.039891,
     "end_time": "2023-12-27T14:49:32.582172",
     "exception": false,
     "start_time": "2023-12-27T14:49:32.542281",
     "status": "completed"
    },
    "tags": []
   },
   "outputs": [],
   "source": [
    "def purposenotfullypaid(data=None):\n",
    "    plt.figure(figsize = (15,8))\n",
    "    sns.countplot(x = 'purpose', hue = 'not.fully.paid', data=data)\n",
    "    plt.legend(labels=['Purpose Not Fully Paid 0', 'Purpose Not Fully Paid 1'])\n",
    "    \n",
    "    plt.xticks(size=12)\n",
    "    plt.yticks(size=12)\n",
    "    plt.xlabel(xlabel='Purpose', size=14)\n",
    "    plt.ylabel(ylabel='Frequency', size=14)\n",
    "    plt.title(label='Purpose vs Not Fully Paid', size=16)\n",
    "    plt.show()"
   ]
  },
  {
   "cell_type": "code",
   "execution_count": 14,
   "id": "7e2cddb4",
   "metadata": {
    "execution": {
     "iopub.execute_input": "2023-12-27T14:49:32.641044Z",
     "iopub.status.busy": "2023-12-27T14:49:32.640625Z",
     "iopub.status.idle": "2023-12-27T14:49:33.062500Z",
     "shell.execute_reply": "2023-12-27T14:49:33.061386Z"
    },
    "papermill": {
     "duration": 0.454004,
     "end_time": "2023-12-27T14:49:33.064917",
     "exception": false,
     "start_time": "2023-12-27T14:49:32.610913",
     "status": "completed"
    },
    "tags": []
   },
   "outputs": [
    {
     "data": {
      "image/png": "[encoded data removed]",
      "text/plain": [
       "<Figure size 1500x800 with 1 Axes>"
      ]
     },
     "metadata": {},
     "output_type": "display_data"
    }
   ],
   "source": [
    "purposenotfullypaid(data)"
   ]
  },
  {
   "cell_type": "markdown",
   "id": "add52e7f",
   "metadata": {
    "papermill": {
     "duration": 0.02907,
     "end_time": "2023-12-27T14:49:33.123720",
     "exception": false,
     "start_time": "2023-12-27T14:49:33.094650",
     "status": "completed"
    },
    "tags": []
   },
   "source": [
    "## 7. Data Post-Processing"
   ]
  },
  {
   "cell_type": "markdown",
   "id": "cf172073",
   "metadata": {
    "papermill": {
     "duration": 0.028375,
     "end_time": "2023-12-27T14:49:33.181163",
     "exception": false,
     "start_time": "2023-12-27T14:49:33.152788",
     "status": "completed"
    },
    "tags": []
   },
   "source": [
    "### 7.1 Feature Encoding"
   ]
  },
  {
   "cell_type": "code",
   "execution_count": 15,
   "id": "e8d4c9a5",
   "metadata": {
    "execution": {
     "iopub.execute_input": "2023-12-27T14:49:33.240536Z",
     "iopub.status.busy": "2023-12-27T14:49:33.240111Z",
     "iopub.status.idle": "2023-12-27T14:49:33.269342Z",
     "shell.execute_reply": "2023-12-27T14:49:33.268232Z"
    },
    "papermill": {
     "duration": 0.061948,
     "end_time": "2023-12-27T14:49:33.271860",
     "exception": false,
     "start_time": "2023-12-27T14:49:33.209912",
     "status": "completed"
    },
    "tags": []
   },
   "outputs": [
    {
     "data": {
      "text/html": [
       "<div>\n",
       "<style scoped>\n",
       "    .dataframe tbody tr th:only-of-type {\n",
       "        vertical-align: middle;\n",
       "    }\n",
       "\n",
       "    .dataframe tbody tr th {\n",
       "        vertical-align: top;\n",
       "    }\n",
       "\n",
       "    .dataframe thead th {\n",
       "        text-align: right;\n",
       "    }\n",
       "</style>\n",
       "<table border=\"1\" class=\"dataframe\">\n",
       "  <thead>\n",
       "    <tr style=\"text-align: right;\">\n",
       "      <th></th>\n",
       "      <th>credit.policy</th>\n",
       "      <th>int.rate</th>\n",
       "      <th>installment</th>\n",
       "      <th>log.annual.inc</th>\n",
       "      <th>dti</th>\n",
       "      <th>fico</th>\n",
       "      <th>days.with.cr.line</th>\n",
       "      <th>revol.bal</th>\n",
       "      <th>revol.util</th>\n",
       "      <th>inq.last.6mths</th>\n",
       "      <th>delinq.2yrs</th>\n",
       "      <th>pub.rec</th>\n",
       "      <th>not.fully.paid</th>\n",
       "      <th>purpose_all_other</th>\n",
       "      <th>purpose_credit_card</th>\n",
       "      <th>purpose_debt_consolidation</th>\n",
       "      <th>purpose_educational</th>\n",
       "      <th>purpose_home_improvement</th>\n",
       "      <th>purpose_major_purchase</th>\n",
       "      <th>purpose_small_business</th>\n",
       "    </tr>\n",
       "  </thead>\n",
       "  <tbody>\n",
       "    <tr>\n",
       "      <th>0</th>\n",
       "      <td>1</td>\n",
       "      <td>0.1189</td>\n",
       "      <td>829.10</td>\n",
       "      <td>11.350407</td>\n",
       "      <td>19.48</td>\n",
       "      <td>737</td>\n",
       "      <td>5639.958333</td>\n",
       "      <td>28854</td>\n",
       "      <td>52.1</td>\n",
       "      <td>0</td>\n",
       "      <td>0</td>\n",
       "      <td>0</td>\n",
       "      <td>0</td>\n",
       "      <td>False</td>\n",
       "      <td>False</td>\n",
       "      <td>True</td>\n",
       "      <td>False</td>\n",
       "      <td>False</td>\n",
       "      <td>False</td>\n",
       "      <td>False</td>\n",
       "    </tr>\n",
       "    <tr>\n",
       "      <th>1</th>\n",
       "      <td>1</td>\n",
       "      <td>0.1071</td>\n",
       "      <td>228.22</td>\n",
       "      <td>11.082143</td>\n",
       "      <td>14.29</td>\n",
       "      <td>707</td>\n",
       "      <td>2760.000000</td>\n",
       "      <td>33623</td>\n",
       "      <td>76.7</td>\n",
       "      <td>0</td>\n",
       "      <td>0</td>\n",
       "      <td>0</td>\n",
       "      <td>0</td>\n",
       "      <td>False</td>\n",
       "      <td>True</td>\n",
       "      <td>False</td>\n",
       "      <td>False</td>\n",
       "      <td>False</td>\n",
       "      <td>False</td>\n",
       "      <td>False</td>\n",
       "    </tr>\n",
       "    <tr>\n",
       "      <th>2</th>\n",
       "      <td>1</td>\n",
       "      <td>0.1357</td>\n",
       "      <td>366.86</td>\n",
       "      <td>10.373491</td>\n",
       "      <td>11.63</td>\n",
       "      <td>682</td>\n",
       "      <td>4710.000000</td>\n",
       "      <td>3511</td>\n",
       "      <td>25.6</td>\n",
       "      <td>1</td>\n",
       "      <td>0</td>\n",
       "      <td>0</td>\n",
       "      <td>0</td>\n",
       "      <td>False</td>\n",
       "      <td>False</td>\n",
       "      <td>True</td>\n",
       "      <td>False</td>\n",
       "      <td>False</td>\n",
       "      <td>False</td>\n",
       "      <td>False</td>\n",
       "    </tr>\n",
       "    <tr>\n",
       "      <th>3</th>\n",
       "      <td>1</td>\n",
       "      <td>0.1008</td>\n",
       "      <td>162.34</td>\n",
       "      <td>11.350407</td>\n",
       "      <td>8.10</td>\n",
       "      <td>712</td>\n",
       "      <td>2699.958333</td>\n",
       "      <td>33667</td>\n",
       "      <td>73.2</td>\n",
       "      <td>1</td>\n",
       "      <td>0</td>\n",
       "      <td>0</td>\n",
       "      <td>0</td>\n",
       "      <td>False</td>\n",
       "      <td>False</td>\n",
       "      <td>True</td>\n",
       "      <td>False</td>\n",
       "      <td>False</td>\n",
       "      <td>False</td>\n",
       "      <td>False</td>\n",
       "    </tr>\n",
       "    <tr>\n",
       "      <th>4</th>\n",
       "      <td>1</td>\n",
       "      <td>0.1426</td>\n",
       "      <td>102.92</td>\n",
       "      <td>11.299732</td>\n",
       "      <td>14.97</td>\n",
       "      <td>667</td>\n",
       "      <td>4066.000000</td>\n",
       "      <td>4740</td>\n",
       "      <td>39.5</td>\n",
       "      <td>0</td>\n",
       "      <td>1</td>\n",
       "      <td>0</td>\n",
       "      <td>0</td>\n",
       "      <td>False</td>\n",
       "      <td>True</td>\n",
       "      <td>False</td>\n",
       "      <td>False</td>\n",
       "      <td>False</td>\n",
       "      <td>False</td>\n",
       "      <td>False</td>\n",
       "    </tr>\n",
       "  </tbody>\n",
       "</table>\n",
       "</div>"
      ],
      "text/plain": [
       "   credit.policy  int.rate  installment  log.annual.inc    dti  fico  \\\n",
       "0              1    0.1189       829.10       11.350407  19.48   737   \n",
       "1              1    0.1071       228.22       11.082143  14.29   707   \n",
       "2              1    0.1357       366.86       10.373491  11.63   682   \n",
       "3              1    0.1008       162.34       11.350407   8.10   712   \n",
       "4              1    0.1426       102.92       11.299732  14.97   667   \n",
       "\n",
       "   days.with.cr.line  revol.bal  revol.util  inq.last.6mths  delinq.2yrs  \\\n",
       "0        5639.958333      28854        52.1               0            0   \n",
       "1        2760.000000      33623        76.7               0            0   \n",
       "2        4710.000000       3511        25.6               1            0   \n",
       "3        2699.958333      33667        73.2               1            0   \n",
       "4        4066.000000       4740        39.5               0            1   \n",
       "\n",
       "   pub.rec  not.fully.paid  purpose_all_other  purpose_credit_card  \\\n",
       "0        0               0              False                False   \n",
       "1        0               0              False                 True   \n",
       "2        0               0              False                False   \n",
       "3        0               0              False                False   \n",
       "4        0               0              False                 True   \n",
       "\n",
       "   purpose_debt_consolidation  purpose_educational  purpose_home_improvement  \\\n",
       "0                        True                False                     False   \n",
       "1                       False                False                     False   \n",
       "2                        True                False                     False   \n",
       "3                        True                False                     False   \n",
       "4                       False                False                     False   \n",
       "\n",
       "   purpose_major_purchase  purpose_small_business  \n",
       "0                   False                   False  \n",
       "1                   False                   False  \n",
       "2                   False                   False  \n",
       "3                   False                   False  \n",
       "4                   False                   False  "
      ]
     },
     "execution_count": 15,
     "metadata": {},
     "output_type": "execute_result"
    }
   ],
   "source": [
    "data_p = pd.get_dummies(data=data, columns = ['purpose'])\n",
    "data_p.head()"
   ]
  },
  {
   "cell_type": "markdown",
   "id": "aad74dc0",
   "metadata": {
    "papermill": {
     "duration": 0.029832,
     "end_time": "2023-12-27T14:49:33.331647",
     "exception": false,
     "start_time": "2023-12-27T14:49:33.301815",
     "status": "completed"
    },
    "tags": []
   },
   "source": [
    "- One Hot Encoding returned boolean values in the required fields.\n",
    "- Converting boolean to integer manually."
   ]
  },
  {
   "cell_type": "code",
   "execution_count": 16,
   "id": "5d0e9041",
   "metadata": {
    "execution": {
     "iopub.execute_input": "2023-12-27T14:49:33.394324Z",
     "iopub.status.busy": "2023-12-27T14:49:33.393142Z",
     "iopub.status.idle": "2023-12-27T14:49:33.400745Z",
     "shell.execute_reply": "2023-12-27T14:49:33.399698Z"
    },
    "papermill": {
     "duration": 0.041024,
     "end_time": "2023-12-27T14:49:33.403039",
     "exception": false,
     "start_time": "2023-12-27T14:49:33.362015",
     "status": "completed"
    },
    "tags": []
   },
   "outputs": [
    {
     "data": {
      "text/plain": [
       "Index(['credit.policy', 'int.rate', 'installment', 'log.annual.inc', 'dti',\n",
       "       'fico', 'days.with.cr.line', 'revol.bal', 'revol.util',\n",
       "       'inq.last.6mths', 'delinq.2yrs', 'pub.rec', 'not.fully.paid',\n",
       "       'purpose_all_other', 'purpose_credit_card',\n",
       "       'purpose_debt_consolidation', 'purpose_educational',\n",
       "       'purpose_home_improvement', 'purpose_major_purchase',\n",
       "       'purpose_small_business'],\n",
       "      dtype='object')"
      ]
     },
     "execution_count": 16,
     "metadata": {},
     "output_type": "execute_result"
    }
   ],
   "source": [
    "data_p.columns"
   ]
  },
  {
   "cell_type": "code",
   "execution_count": 17,
   "id": "66c35978",
   "metadata": {
    "execution": {
     "iopub.execute_input": "2023-12-27T14:49:33.464315Z",
     "iopub.status.busy": "2023-12-27T14:49:33.463913Z",
     "iopub.status.idle": "2023-12-27T14:49:33.469699Z",
     "shell.execute_reply": "2023-12-27T14:49:33.468662Z"
    },
    "papermill": {
     "duration": 0.039258,
     "end_time": "2023-12-27T14:49:33.472085",
     "exception": false,
     "start_time": "2023-12-27T14:49:33.432827",
     "status": "completed"
    },
    "tags": []
   },
   "outputs": [],
   "source": [
    "data_p['purpose_all_other'] = data_p['purpose_all_other'].astype(int) "
   ]
  },
  {
   "cell_type": "code",
   "execution_count": 18,
   "id": "5a54799b",
   "metadata": {
    "execution": {
     "iopub.execute_input": "2023-12-27T14:49:33.533235Z",
     "iopub.status.busy": "2023-12-27T14:49:33.532814Z",
     "iopub.status.idle": "2023-12-27T14:49:33.541088Z",
     "shell.execute_reply": "2023-12-27T14:49:33.540098Z"
    },
    "papermill": {
     "duration": 0.041346,
     "end_time": "2023-12-27T14:49:33.543203",
     "exception": false,
     "start_time": "2023-12-27T14:49:33.501857",
     "status": "completed"
    },
    "tags": []
   },
   "outputs": [
    {
     "data": {
      "text/plain": [
       "0       0\n",
       "1       0\n",
       "2       0\n",
       "3       0\n",
       "4       0\n",
       "       ..\n",
       "9573    1\n",
       "9574    1\n",
       "9575    0\n",
       "9576    0\n",
       "9577    0\n",
       "Name: purpose_all_other, Length: 9578, dtype: int64"
      ]
     },
     "execution_count": 18,
     "metadata": {},
     "output_type": "execute_result"
    }
   ],
   "source": [
    "data_p['purpose_all_other']"
   ]
  },
  {
   "cell_type": "code",
   "execution_count": 19,
   "id": "2bc4f443",
   "metadata": {
    "execution": {
     "iopub.execute_input": "2023-12-27T14:49:33.604379Z",
     "iopub.status.busy": "2023-12-27T14:49:33.603888Z",
     "iopub.status.idle": "2023-12-27T14:49:33.610831Z",
     "shell.execute_reply": "2023-12-27T14:49:33.610123Z"
    },
    "papermill": {
     "duration": 0.039939,
     "end_time": "2023-12-27T14:49:33.612763",
     "exception": false,
     "start_time": "2023-12-27T14:49:33.572824",
     "status": "completed"
    },
    "tags": []
   },
   "outputs": [
    {
     "data": {
      "text/plain": [
       "Index(['credit.policy', 'int.rate', 'installment', 'log.annual.inc', 'dti',\n",
       "       'fico', 'days.with.cr.line', 'revol.bal', 'revol.util',\n",
       "       'inq.last.6mths', 'delinq.2yrs', 'pub.rec', 'not.fully.paid',\n",
       "       'purpose_all_other', 'purpose_credit_card',\n",
       "       'purpose_debt_consolidation', 'purpose_educational',\n",
       "       'purpose_home_improvement', 'purpose_major_purchase',\n",
       "       'purpose_small_business'],\n",
       "      dtype='object')"
      ]
     },
     "execution_count": 19,
     "metadata": {},
     "output_type": "execute_result"
    }
   ],
   "source": [
    "col_list_new = data_p.columns\n",
    "col_list_new"
   ]
  },
  {
   "cell_type": "code",
   "execution_count": 20,
   "id": "4d1d9570",
   "metadata": {
    "execution": {
     "iopub.execute_input": "2023-12-27T14:49:33.674457Z",
     "iopub.status.busy": "2023-12-27T14:49:33.674089Z",
     "iopub.status.idle": "2023-12-27T14:49:33.679850Z",
     "shell.execute_reply": "2023-12-27T14:49:33.679126Z"
    },
    "papermill": {
     "duration": 0.039633,
     "end_time": "2023-12-27T14:49:33.682173",
     "exception": false,
     "start_time": "2023-12-27T14:49:33.642540",
     "status": "completed"
    },
    "tags": []
   },
   "outputs": [
    {
     "data": {
      "text/plain": [
       "Index(['purpose_all_other', 'purpose_credit_card',\n",
       "       'purpose_debt_consolidation', 'purpose_educational',\n",
       "       'purpose_home_improvement', 'purpose_major_purchase',\n",
       "       'purpose_small_business'],\n",
       "      dtype='object')"
      ]
     },
     "execution_count": 20,
     "metadata": {},
     "output_type": "execute_result"
    }
   ],
   "source": [
    "col_list_new[13:]"
   ]
  },
  {
   "cell_type": "code",
   "execution_count": 21,
   "id": "eeb5775f",
   "metadata": {
    "execution": {
     "iopub.execute_input": "2023-12-27T14:49:33.744845Z",
     "iopub.status.busy": "2023-12-27T14:49:33.744238Z",
     "iopub.status.idle": "2023-12-27T14:49:33.750611Z",
     "shell.execute_reply": "2023-12-27T14:49:33.749551Z"
    },
    "papermill": {
     "duration": 0.04058,
     "end_time": "2023-12-27T14:49:33.753059",
     "exception": false,
     "start_time": "2023-12-27T14:49:33.712479",
     "status": "completed"
    },
    "tags": []
   },
   "outputs": [
    {
     "data": {
      "text/plain": [
       "Index(['purpose_all_other', 'purpose_credit_card',\n",
       "       'purpose_debt_consolidation', 'purpose_educational',\n",
       "       'purpose_home_improvement', 'purpose_major_purchase',\n",
       "       'purpose_small_business'],\n",
       "      dtype='object')"
      ]
     },
     "execution_count": 21,
     "metadata": {},
     "output_type": "execute_result"
    }
   ],
   "source": [
    "col_list_purpose = col_list_new[13:]\n",
    "col_list_purpose"
   ]
  },
  {
   "cell_type": "code",
   "execution_count": 22,
   "id": "de2ea990",
   "metadata": {
    "execution": {
     "iopub.execute_input": "2023-12-27T14:49:33.816692Z",
     "iopub.status.busy": "2023-12-27T14:49:33.815952Z",
     "iopub.status.idle": "2023-12-27T14:49:33.823848Z",
     "shell.execute_reply": "2023-12-27T14:49:33.823125Z"
    },
    "papermill": {
     "duration": 0.042033,
     "end_time": "2023-12-27T14:49:33.826051",
     "exception": false,
     "start_time": "2023-12-27T14:49:33.784018",
     "status": "completed"
    },
    "tags": []
   },
   "outputs": [],
   "source": [
    "for i in col_list_purpose:\n",
    "    data_p[i] = data_p[i].astype(int)"
   ]
  },
  {
   "cell_type": "code",
   "execution_count": 23,
   "id": "d2da5817",
   "metadata": {
    "execution": {
     "iopub.execute_input": "2023-12-27T14:49:33.889040Z",
     "iopub.status.busy": "2023-12-27T14:49:33.887889Z",
     "iopub.status.idle": "2023-12-27T14:49:33.909224Z",
     "shell.execute_reply": "2023-12-27T14:49:33.908131Z"
    },
    "papermill": {
     "duration": 0.055193,
     "end_time": "2023-12-27T14:49:33.911413",
     "exception": false,
     "start_time": "2023-12-27T14:49:33.856220",
     "status": "completed"
    },
    "tags": []
   },
   "outputs": [
    {
     "data": {
      "text/html": [
       "<div>\n",
       "<style scoped>\n",
       "    .dataframe tbody tr th:only-of-type {\n",
       "        vertical-align: middle;\n",
       "    }\n",
       "\n",
       "    .dataframe tbody tr th {\n",
       "        vertical-align: top;\n",
       "    }\n",
       "\n",
       "    .dataframe thead th {\n",
       "        text-align: right;\n",
       "    }\n",
       "</style>\n",
       "<table border=\"1\" class=\"dataframe\">\n",
       "  <thead>\n",
       "    <tr style=\"text-align: right;\">\n",
       "      <th></th>\n",
       "      <th>credit.policy</th>\n",
       "      <th>int.rate</th>\n",
       "      <th>installment</th>\n",
       "      <th>log.annual.inc</th>\n",
       "      <th>dti</th>\n",
       "      <th>fico</th>\n",
       "      <th>days.with.cr.line</th>\n",
       "      <th>revol.bal</th>\n",
       "      <th>revol.util</th>\n",
       "      <th>inq.last.6mths</th>\n",
       "      <th>delinq.2yrs</th>\n",
       "      <th>pub.rec</th>\n",
       "      <th>not.fully.paid</th>\n",
       "      <th>purpose_all_other</th>\n",
       "      <th>purpose_credit_card</th>\n",
       "      <th>purpose_debt_consolidation</th>\n",
       "      <th>purpose_educational</th>\n",
       "      <th>purpose_home_improvement</th>\n",
       "      <th>purpose_major_purchase</th>\n",
       "      <th>purpose_small_business</th>\n",
       "    </tr>\n",
       "  </thead>\n",
       "  <tbody>\n",
       "    <tr>\n",
       "      <th>0</th>\n",
       "      <td>1</td>\n",
       "      <td>0.1189</td>\n",
       "      <td>829.10</td>\n",
       "      <td>11.350407</td>\n",
       "      <td>19.48</td>\n",
       "      <td>737</td>\n",
       "      <td>5639.958333</td>\n",
       "      <td>28854</td>\n",
       "      <td>52.1</td>\n",
       "      <td>0</td>\n",
       "      <td>0</td>\n",
       "      <td>0</td>\n",
       "      <td>0</td>\n",
       "      <td>0</td>\n",
       "      <td>0</td>\n",
       "      <td>1</td>\n",
       "      <td>0</td>\n",
       "      <td>0</td>\n",
       "      <td>0</td>\n",
       "      <td>0</td>\n",
       "    </tr>\n",
       "    <tr>\n",
       "      <th>1</th>\n",
       "      <td>1</td>\n",
       "      <td>0.1071</td>\n",
       "      <td>228.22</td>\n",
       "      <td>11.082143</td>\n",
       "      <td>14.29</td>\n",
       "      <td>707</td>\n",
       "      <td>2760.000000</td>\n",
       "      <td>33623</td>\n",
       "      <td>76.7</td>\n",
       "      <td>0</td>\n",
       "      <td>0</td>\n",
       "      <td>0</td>\n",
       "      <td>0</td>\n",
       "      <td>0</td>\n",
       "      <td>1</td>\n",
       "      <td>0</td>\n",
       "      <td>0</td>\n",
       "      <td>0</td>\n",
       "      <td>0</td>\n",
       "      <td>0</td>\n",
       "    </tr>\n",
       "    <tr>\n",
       "      <th>2</th>\n",
       "      <td>1</td>\n",
       "      <td>0.1357</td>\n",
       "      <td>366.86</td>\n",
       "      <td>10.373491</td>\n",
       "      <td>11.63</td>\n",
       "      <td>682</td>\n",
       "      <td>4710.000000</td>\n",
       "      <td>3511</td>\n",
       "      <td>25.6</td>\n",
       "      <td>1</td>\n",
       "      <td>0</td>\n",
       "      <td>0</td>\n",
       "      <td>0</td>\n",
       "      <td>0</td>\n",
       "      <td>0</td>\n",
       "      <td>1</td>\n",
       "      <td>0</td>\n",
       "      <td>0</td>\n",
       "      <td>0</td>\n",
       "      <td>0</td>\n",
       "    </tr>\n",
       "    <tr>\n",
       "      <th>3</th>\n",
       "      <td>1</td>\n",
       "      <td>0.1008</td>\n",
       "      <td>162.34</td>\n",
       "      <td>11.350407</td>\n",
       "      <td>8.10</td>\n",
       "      <td>712</td>\n",
       "      <td>2699.958333</td>\n",
       "      <td>33667</td>\n",
       "      <td>73.2</td>\n",
       "      <td>1</td>\n",
       "      <td>0</td>\n",
       "      <td>0</td>\n",
       "      <td>0</td>\n",
       "      <td>0</td>\n",
       "      <td>0</td>\n",
       "      <td>1</td>\n",
       "      <td>0</td>\n",
       "      <td>0</td>\n",
       "      <td>0</td>\n",
       "      <td>0</td>\n",
       "    </tr>\n",
       "    <tr>\n",
       "      <th>4</th>\n",
       "      <td>1</td>\n",
       "      <td>0.1426</td>\n",
       "      <td>102.92</td>\n",
       "      <td>11.299732</td>\n",
       "      <td>14.97</td>\n",
       "      <td>667</td>\n",
       "      <td>4066.000000</td>\n",
       "      <td>4740</td>\n",
       "      <td>39.5</td>\n",
       "      <td>0</td>\n",
       "      <td>1</td>\n",
       "      <td>0</td>\n",
       "      <td>0</td>\n",
       "      <td>0</td>\n",
       "      <td>1</td>\n",
       "      <td>0</td>\n",
       "      <td>0</td>\n",
       "      <td>0</td>\n",
       "      <td>0</td>\n",
       "      <td>0</td>\n",
       "    </tr>\n",
       "  </tbody>\n",
       "</table>\n",
       "</div>"
      ],
      "text/plain": [
       "   credit.policy  int.rate  installment  log.annual.inc    dti  fico  \\\n",
       "0              1    0.1189       829.10       11.350407  19.48   737   \n",
       "1              1    0.1071       228.22       11.082143  14.29   707   \n",
       "2              1    0.1357       366.86       10.373491  11.63   682   \n",
       "3              1    0.1008       162.34       11.350407   8.10   712   \n",
       "4              1    0.1426       102.92       11.299732  14.97   667   \n",
       "\n",
       "   days.with.cr.line  revol.bal  revol.util  inq.last.6mths  delinq.2yrs  \\\n",
       "0        5639.958333      28854        52.1               0            0   \n",
       "1        2760.000000      33623        76.7               0            0   \n",
       "2        4710.000000       3511        25.6               1            0   \n",
       "3        2699.958333      33667        73.2               1            0   \n",
       "4        4066.000000       4740        39.5               0            1   \n",
       "\n",
       "   pub.rec  not.fully.paid  purpose_all_other  purpose_credit_card  \\\n",
       "0        0               0                  0                    0   \n",
       "1        0               0                  0                    1   \n",
       "2        0               0                  0                    0   \n",
       "3        0               0                  0                    0   \n",
       "4        0               0                  0                    1   \n",
       "\n",
       "   purpose_debt_consolidation  purpose_educational  purpose_home_improvement  \\\n",
       "0                           1                    0                         0   \n",
       "1                           0                    0                         0   \n",
       "2                           1                    0                         0   \n",
       "3                           1                    0                         0   \n",
       "4                           0                    0                         0   \n",
       "\n",
       "   purpose_major_purchase  purpose_small_business  \n",
       "0                       0                       0  \n",
       "1                       0                       0  \n",
       "2                       0                       0  \n",
       "3                       0                       0  \n",
       "4                       0                       0  "
      ]
     },
     "execution_count": 23,
     "metadata": {},
     "output_type": "execute_result"
    }
   ],
   "source": [
    "data_p.head()"
   ]
  },
  {
   "cell_type": "code",
   "execution_count": 24,
   "id": "0e3e228d",
   "metadata": {
    "execution": {
     "iopub.execute_input": "2023-12-27T14:49:33.975992Z",
     "iopub.status.busy": "2023-12-27T14:49:33.975614Z",
     "iopub.status.idle": "2023-12-27T14:49:33.980144Z",
     "shell.execute_reply": "2023-12-27T14:49:33.979116Z"
    },
    "papermill": {
     "duration": 0.039031,
     "end_time": "2023-12-27T14:49:33.982420",
     "exception": false,
     "start_time": "2023-12-27T14:49:33.943389",
     "status": "completed"
    },
    "tags": []
   },
   "outputs": [],
   "source": [
    "data = data_p"
   ]
  },
  {
   "cell_type": "code",
   "execution_count": 25,
   "id": "1178d5f5",
   "metadata": {
    "execution": {
     "iopub.execute_input": "2023-12-27T14:49:34.046247Z",
     "iopub.status.busy": "2023-12-27T14:49:34.045166Z",
     "iopub.status.idle": "2023-12-27T14:49:34.064195Z",
     "shell.execute_reply": "2023-12-27T14:49:34.063124Z"
    },
    "papermill": {
     "duration": 0.053472,
     "end_time": "2023-12-27T14:49:34.066489",
     "exception": false,
     "start_time": "2023-12-27T14:49:34.013017",
     "status": "completed"
    },
    "tags": []
   },
   "outputs": [
    {
     "data": {
      "text/html": [
       "<div>\n",
       "<style scoped>\n",
       "    .dataframe tbody tr th:only-of-type {\n",
       "        vertical-align: middle;\n",
       "    }\n",
       "\n",
       "    .dataframe tbody tr th {\n",
       "        vertical-align: top;\n",
       "    }\n",
       "\n",
       "    .dataframe thead th {\n",
       "        text-align: right;\n",
       "    }\n",
       "</style>\n",
       "<table border=\"1\" class=\"dataframe\">\n",
       "  <thead>\n",
       "    <tr style=\"text-align: right;\">\n",
       "      <th></th>\n",
       "      <th>credit.policy</th>\n",
       "      <th>int.rate</th>\n",
       "      <th>installment</th>\n",
       "      <th>log.annual.inc</th>\n",
       "      <th>dti</th>\n",
       "      <th>fico</th>\n",
       "      <th>days.with.cr.line</th>\n",
       "      <th>revol.bal</th>\n",
       "      <th>revol.util</th>\n",
       "      <th>inq.last.6mths</th>\n",
       "      <th>delinq.2yrs</th>\n",
       "      <th>pub.rec</th>\n",
       "      <th>not.fully.paid</th>\n",
       "      <th>purpose_all_other</th>\n",
       "      <th>purpose_credit_card</th>\n",
       "      <th>purpose_debt_consolidation</th>\n",
       "      <th>purpose_educational</th>\n",
       "      <th>purpose_home_improvement</th>\n",
       "      <th>purpose_major_purchase</th>\n",
       "      <th>purpose_small_business</th>\n",
       "    </tr>\n",
       "  </thead>\n",
       "  <tbody>\n",
       "    <tr>\n",
       "      <th>0</th>\n",
       "      <td>1</td>\n",
       "      <td>0.1189</td>\n",
       "      <td>829.10</td>\n",
       "      <td>11.350407</td>\n",
       "      <td>19.48</td>\n",
       "      <td>737</td>\n",
       "      <td>5639.958333</td>\n",
       "      <td>28854</td>\n",
       "      <td>52.1</td>\n",
       "      <td>0</td>\n",
       "      <td>0</td>\n",
       "      <td>0</td>\n",
       "      <td>0</td>\n",
       "      <td>0</td>\n",
       "      <td>0</td>\n",
       "      <td>1</td>\n",
       "      <td>0</td>\n",
       "      <td>0</td>\n",
       "      <td>0</td>\n",
       "      <td>0</td>\n",
       "    </tr>\n",
       "    <tr>\n",
       "      <th>1</th>\n",
       "      <td>1</td>\n",
       "      <td>0.1071</td>\n",
       "      <td>228.22</td>\n",
       "      <td>11.082143</td>\n",
       "      <td>14.29</td>\n",
       "      <td>707</td>\n",
       "      <td>2760.000000</td>\n",
       "      <td>33623</td>\n",
       "      <td>76.7</td>\n",
       "      <td>0</td>\n",
       "      <td>0</td>\n",
       "      <td>0</td>\n",
       "      <td>0</td>\n",
       "      <td>0</td>\n",
       "      <td>1</td>\n",
       "      <td>0</td>\n",
       "      <td>0</td>\n",
       "      <td>0</td>\n",
       "      <td>0</td>\n",
       "      <td>0</td>\n",
       "    </tr>\n",
       "  </tbody>\n",
       "</table>\n",
       "</div>"
      ],
      "text/plain": [
       "   credit.policy  int.rate  installment  log.annual.inc    dti  fico  \\\n",
       "0              1    0.1189       829.10       11.350407  19.48   737   \n",
       "1              1    0.1071       228.22       11.082143  14.29   707   \n",
       "\n",
       "   days.with.cr.line  revol.bal  revol.util  inq.last.6mths  delinq.2yrs  \\\n",
       "0        5639.958333      28854        52.1               0            0   \n",
       "1        2760.000000      33623        76.7               0            0   \n",
       "\n",
       "   pub.rec  not.fully.paid  purpose_all_other  purpose_credit_card  \\\n",
       "0        0               0                  0                    0   \n",
       "1        0               0                  0                    1   \n",
       "\n",
       "   purpose_debt_consolidation  purpose_educational  purpose_home_improvement  \\\n",
       "0                           1                    0                         0   \n",
       "1                           0                    0                         0   \n",
       "\n",
       "   purpose_major_purchase  purpose_small_business  \n",
       "0                       0                       0  \n",
       "1                       0                       0  "
      ]
     },
     "execution_count": 25,
     "metadata": {},
     "output_type": "execute_result"
    }
   ],
   "source": [
    "data.head(2)"
   ]
  },
  {
   "cell_type": "markdown",
   "id": "1cd87aad",
   "metadata": {
    "papermill": {
     "duration": 0.032082,
     "end_time": "2023-12-27T14:49:34.129959",
     "exception": false,
     "start_time": "2023-12-27T14:49:34.097877",
     "status": "completed"
    },
    "tags": []
   },
   "source": [
    "### 7.2 Feature Scaling"
   ]
  },
  {
   "cell_type": "markdown",
   "id": "2a9aadb7",
   "metadata": {
    "papermill": {
     "duration": 0.031442,
     "end_time": "2023-12-27T14:49:34.192370",
     "exception": false,
     "start_time": "2023-12-27T14:49:34.160928",
     "status": "completed"
    },
    "tags": []
   },
   "source": [
    "- Function that performs standard scaling over the following set of features (independent variables).</h4>\n",
    "\n",
    "> int.rate, installment, log.annual.inc, dti, fico, days.with.cr.line, revol.bal, revol.util."
   ]
  },
  {
   "cell_type": "code",
   "execution_count": 26,
   "id": "51585717",
   "metadata": {
    "execution": {
     "iopub.execute_input": "2023-12-27T14:49:34.257512Z",
     "iopub.status.busy": "2023-12-27T14:49:34.256771Z",
     "iopub.status.idle": "2023-12-27T14:49:34.265140Z",
     "shell.execute_reply": "2023-12-27T14:49:34.264029Z"
    },
    "papermill": {
     "duration": 0.043903,
     "end_time": "2023-12-27T14:49:34.267549",
     "exception": false,
     "start_time": "2023-12-27T14:49:34.223646",
     "status": "completed"
    },
    "tags": []
   },
   "outputs": [
    {
     "name": "stdout",
     "output_type": "stream",
     "text": [
      "(9578, 19)\n",
      "(9578,)\n"
     ]
    }
   ],
   "source": [
    "X = data.drop(labels='not.fully.paid', axis=1)\n",
    "y = data['not.fully.paid']\n",
    "\n",
    "scaler_labels = ['int.rate','installment', 'log.annual.inc', 'dti', 'fico', 'days.with.cr.line', 'revol.bal', 'revol.util']\n",
    "print(X.shape)\n",
    "print(y.shape)"
   ]
  },
  {
   "cell_type": "code",
   "execution_count": 27,
   "id": "d1602c43",
   "metadata": {
    "execution": {
     "iopub.execute_input": "2023-12-27T14:49:34.332718Z",
     "iopub.status.busy": "2023-12-27T14:49:34.332318Z",
     "iopub.status.idle": "2023-12-27T14:49:34.353341Z",
     "shell.execute_reply": "2023-12-27T14:49:34.352545Z"
    },
    "papermill": {
     "duration": 0.056463,
     "end_time": "2023-12-27T14:49:34.355463",
     "exception": false,
     "start_time": "2023-12-27T14:49:34.299000",
     "status": "completed"
    },
    "tags": []
   },
   "outputs": [
    {
     "data": {
      "text/html": [
       "<div>\n",
       "<style scoped>\n",
       "    .dataframe tbody tr th:only-of-type {\n",
       "        vertical-align: middle;\n",
       "    }\n",
       "\n",
       "    .dataframe tbody tr th {\n",
       "        vertical-align: top;\n",
       "    }\n",
       "\n",
       "    .dataframe thead th {\n",
       "        text-align: right;\n",
       "    }\n",
       "</style>\n",
       "<table border=\"1\" class=\"dataframe\">\n",
       "  <thead>\n",
       "    <tr style=\"text-align: right;\">\n",
       "      <th></th>\n",
       "      <th>credit.policy</th>\n",
       "      <th>int.rate</th>\n",
       "      <th>installment</th>\n",
       "      <th>log.annual.inc</th>\n",
       "      <th>dti</th>\n",
       "      <th>fico</th>\n",
       "      <th>days.with.cr.line</th>\n",
       "      <th>revol.bal</th>\n",
       "      <th>revol.util</th>\n",
       "      <th>inq.last.6mths</th>\n",
       "      <th>delinq.2yrs</th>\n",
       "      <th>pub.rec</th>\n",
       "      <th>purpose_all_other</th>\n",
       "      <th>purpose_credit_card</th>\n",
       "      <th>purpose_debt_consolidation</th>\n",
       "      <th>purpose_educational</th>\n",
       "      <th>purpose_home_improvement</th>\n",
       "      <th>purpose_major_purchase</th>\n",
       "      <th>purpose_small_business</th>\n",
       "    </tr>\n",
       "  </thead>\n",
       "  <tbody>\n",
       "    <tr>\n",
       "      <th>0</th>\n",
       "      <td>1</td>\n",
       "      <td>0.1189</td>\n",
       "      <td>829.10</td>\n",
       "      <td>11.350407</td>\n",
       "      <td>19.48</td>\n",
       "      <td>737</td>\n",
       "      <td>5639.958333</td>\n",
       "      <td>28854</td>\n",
       "      <td>52.1</td>\n",
       "      <td>0</td>\n",
       "      <td>0</td>\n",
       "      <td>0</td>\n",
       "      <td>0</td>\n",
       "      <td>0</td>\n",
       "      <td>1</td>\n",
       "      <td>0</td>\n",
       "      <td>0</td>\n",
       "      <td>0</td>\n",
       "      <td>0</td>\n",
       "    </tr>\n",
       "    <tr>\n",
       "      <th>1</th>\n",
       "      <td>1</td>\n",
       "      <td>0.1071</td>\n",
       "      <td>228.22</td>\n",
       "      <td>11.082143</td>\n",
       "      <td>14.29</td>\n",
       "      <td>707</td>\n",
       "      <td>2760.000000</td>\n",
       "      <td>33623</td>\n",
       "      <td>76.7</td>\n",
       "      <td>0</td>\n",
       "      <td>0</td>\n",
       "      <td>0</td>\n",
       "      <td>0</td>\n",
       "      <td>1</td>\n",
       "      <td>0</td>\n",
       "      <td>0</td>\n",
       "      <td>0</td>\n",
       "      <td>0</td>\n",
       "      <td>0</td>\n",
       "    </tr>\n",
       "    <tr>\n",
       "      <th>2</th>\n",
       "      <td>1</td>\n",
       "      <td>0.1357</td>\n",
       "      <td>366.86</td>\n",
       "      <td>10.373491</td>\n",
       "      <td>11.63</td>\n",
       "      <td>682</td>\n",
       "      <td>4710.000000</td>\n",
       "      <td>3511</td>\n",
       "      <td>25.6</td>\n",
       "      <td>1</td>\n",
       "      <td>0</td>\n",
       "      <td>0</td>\n",
       "      <td>0</td>\n",
       "      <td>0</td>\n",
       "      <td>1</td>\n",
       "      <td>0</td>\n",
       "      <td>0</td>\n",
       "      <td>0</td>\n",
       "      <td>0</td>\n",
       "    </tr>\n",
       "    <tr>\n",
       "      <th>3</th>\n",
       "      <td>1</td>\n",
       "      <td>0.1008</td>\n",
       "      <td>162.34</td>\n",
       "      <td>11.350407</td>\n",
       "      <td>8.10</td>\n",
       "      <td>712</td>\n",
       "      <td>2699.958333</td>\n",
       "      <td>33667</td>\n",
       "      <td>73.2</td>\n",
       "      <td>1</td>\n",
       "      <td>0</td>\n",
       "      <td>0</td>\n",
       "      <td>0</td>\n",
       "      <td>0</td>\n",
       "      <td>1</td>\n",
       "      <td>0</td>\n",
       "      <td>0</td>\n",
       "      <td>0</td>\n",
       "      <td>0</td>\n",
       "    </tr>\n",
       "    <tr>\n",
       "      <th>4</th>\n",
       "      <td>1</td>\n",
       "      <td>0.1426</td>\n",
       "      <td>102.92</td>\n",
       "      <td>11.299732</td>\n",
       "      <td>14.97</td>\n",
       "      <td>667</td>\n",
       "      <td>4066.000000</td>\n",
       "      <td>4740</td>\n",
       "      <td>39.5</td>\n",
       "      <td>0</td>\n",
       "      <td>1</td>\n",
       "      <td>0</td>\n",
       "      <td>0</td>\n",
       "      <td>1</td>\n",
       "      <td>0</td>\n",
       "      <td>0</td>\n",
       "      <td>0</td>\n",
       "      <td>0</td>\n",
       "      <td>0</td>\n",
       "    </tr>\n",
       "  </tbody>\n",
       "</table>\n",
       "</div>"
      ],
      "text/plain": [
       "   credit.policy  int.rate  installment  log.annual.inc    dti  fico  \\\n",
       "0              1    0.1189       829.10       11.350407  19.48   737   \n",
       "1              1    0.1071       228.22       11.082143  14.29   707   \n",
       "2              1    0.1357       366.86       10.373491  11.63   682   \n",
       "3              1    0.1008       162.34       11.350407   8.10   712   \n",
       "4              1    0.1426       102.92       11.299732  14.97   667   \n",
       "\n",
       "   days.with.cr.line  revol.bal  revol.util  inq.last.6mths  delinq.2yrs  \\\n",
       "0        5639.958333      28854        52.1               0            0   \n",
       "1        2760.000000      33623        76.7               0            0   \n",
       "2        4710.000000       3511        25.6               1            0   \n",
       "3        2699.958333      33667        73.2               1            0   \n",
       "4        4066.000000       4740        39.5               0            1   \n",
       "\n",
       "   pub.rec  purpose_all_other  purpose_credit_card  \\\n",
       "0        0                  0                    0   \n",
       "1        0                  0                    1   \n",
       "2        0                  0                    0   \n",
       "3        0                  0                    0   \n",
       "4        0                  0                    1   \n",
       "\n",
       "   purpose_debt_consolidation  purpose_educational  purpose_home_improvement  \\\n",
       "0                           1                    0                         0   \n",
       "1                           0                    0                         0   \n",
       "2                           1                    0                         0   \n",
       "3                           1                    0                         0   \n",
       "4                           0                    0                         0   \n",
       "\n",
       "   purpose_major_purchase  purpose_small_business  \n",
       "0                       0                       0  \n",
       "1                       0                       0  \n",
       "2                       0                       0  \n",
       "3                       0                       0  \n",
       "4                       0                       0  "
      ]
     },
     "execution_count": 27,
     "metadata": {},
     "output_type": "execute_result"
    }
   ],
   "source": [
    "X.head()"
   ]
  },
  {
   "cell_type": "code",
   "execution_count": 28,
   "id": "695a4d0c",
   "metadata": {
    "execution": {
     "iopub.execute_input": "2023-12-27T14:49:34.420953Z",
     "iopub.status.busy": "2023-12-27T14:49:34.420266Z",
     "iopub.status.idle": "2023-12-27T14:49:34.425476Z",
     "shell.execute_reply": "2023-12-27T14:49:34.424512Z"
    },
    "papermill": {
     "duration": 0.040477,
     "end_time": "2023-12-27T14:49:34.427753",
     "exception": false,
     "start_time": "2023-12-27T14:49:34.387276",
     "status": "completed"
    },
    "tags": []
   },
   "outputs": [],
   "source": [
    "def datascaler(data=None, labels=None):\n",
    "    scaler = StandardScaler()\n",
    "    Xtrans = scaler.fit_transform(data[labels])\n",
    "    scaled_df = pd.DataFrame(data = Xtrans, columns = labels)\n",
    "    return scaled_df"
   ]
  },
  {
   "cell_type": "code",
   "execution_count": 29,
   "id": "41fbfbbe",
   "metadata": {
    "execution": {
     "iopub.execute_input": "2023-12-27T14:49:34.493393Z",
     "iopub.status.busy": "2023-12-27T14:49:34.492963Z",
     "iopub.status.idle": "2023-12-27T14:49:34.519082Z",
     "shell.execute_reply": "2023-12-27T14:49:34.518023Z"
    },
    "papermill": {
     "duration": 0.061849,
     "end_time": "2023-12-27T14:49:34.521463",
     "exception": false,
     "start_time": "2023-12-27T14:49:34.459614",
     "status": "completed"
    },
    "tags": []
   },
   "outputs": [
    {
     "data": {
      "text/html": [
       "<div>\n",
       "<style scoped>\n",
       "    .dataframe tbody tr th:only-of-type {\n",
       "        vertical-align: middle;\n",
       "    }\n",
       "\n",
       "    .dataframe tbody tr th {\n",
       "        vertical-align: top;\n",
       "    }\n",
       "\n",
       "    .dataframe thead th {\n",
       "        text-align: right;\n",
       "    }\n",
       "</style>\n",
       "<table border=\"1\" class=\"dataframe\">\n",
       "  <thead>\n",
       "    <tr style=\"text-align: right;\">\n",
       "      <th></th>\n",
       "      <th>int.rate</th>\n",
       "      <th>installment</th>\n",
       "      <th>log.annual.inc</th>\n",
       "      <th>dti</th>\n",
       "      <th>fico</th>\n",
       "      <th>days.with.cr.line</th>\n",
       "      <th>revol.bal</th>\n",
       "      <th>revol.util</th>\n",
       "    </tr>\n",
       "  </thead>\n",
       "  <tbody>\n",
       "    <tr>\n",
       "      <th>0</th>\n",
       "      <td>-0.139318</td>\n",
       "      <td>2.463099</td>\n",
       "      <td>0.680388</td>\n",
       "      <td>0.998505</td>\n",
       "      <td>0.688825</td>\n",
       "      <td>0.432230</td>\n",
       "      <td>0.353732</td>\n",
       "      <td>0.182704</td>\n",
       "    </tr>\n",
       "    <tr>\n",
       "      <th>1</th>\n",
       "      <td>-0.578868</td>\n",
       "      <td>-0.438854</td>\n",
       "      <td>0.244031</td>\n",
       "      <td>0.244540</td>\n",
       "      <td>-0.101303</td>\n",
       "      <td>-0.721230</td>\n",
       "      <td>0.495018</td>\n",
       "      <td>1.030602</td>\n",
       "    </tr>\n",
       "    <tr>\n",
       "      <th>2</th>\n",
       "      <td>0.486484</td>\n",
       "      <td>0.230708</td>\n",
       "      <td>-0.908659</td>\n",
       "      <td>-0.141885</td>\n",
       "      <td>-0.759742</td>\n",
       "      <td>0.059770</td>\n",
       "      <td>-0.397073</td>\n",
       "      <td>-0.730683</td>\n",
       "    </tr>\n",
       "    <tr>\n",
       "      <th>3</th>\n",
       "      <td>-0.813544</td>\n",
       "      <td>-0.757022</td>\n",
       "      <td>0.680388</td>\n",
       "      <td>-0.654697</td>\n",
       "      <td>0.030385</td>\n",
       "      <td>-0.745277</td>\n",
       "      <td>0.496321</td>\n",
       "      <td>0.909966</td>\n",
       "    </tr>\n",
       "    <tr>\n",
       "      <th>4</th>\n",
       "      <td>0.743509</td>\n",
       "      <td>-1.043992</td>\n",
       "      <td>0.597961</td>\n",
       "      <td>0.343326</td>\n",
       "      <td>-1.154806</td>\n",
       "      <td>-0.198161</td>\n",
       "      <td>-0.360663</td>\n",
       "      <td>-0.251586</td>\n",
       "    </tr>\n",
       "  </tbody>\n",
       "</table>\n",
       "</div>"
      ],
      "text/plain": [
       "   int.rate  installment  log.annual.inc       dti      fico  \\\n",
       "0 -0.139318     2.463099        0.680388  0.998505  0.688825   \n",
       "1 -0.578868    -0.438854        0.244031  0.244540 -0.101303   \n",
       "2  0.486484     0.230708       -0.908659 -0.141885 -0.759742   \n",
       "3 -0.813544    -0.757022        0.680388 -0.654697  0.030385   \n",
       "4  0.743509    -1.043992        0.597961  0.343326 -1.154806   \n",
       "\n",
       "   days.with.cr.line  revol.bal  revol.util  \n",
       "0           0.432230   0.353732    0.182704  \n",
       "1          -0.721230   0.495018    1.030602  \n",
       "2           0.059770  -0.397073   -0.730683  \n",
       "3          -0.745277   0.496321    0.909966  \n",
       "4          -0.198161  -0.360663   -0.251586  "
      ]
     },
     "execution_count": 29,
     "metadata": {},
     "output_type": "execute_result"
    }
   ],
   "source": [
    "X_scaled = datascaler(data=data, labels=scaler_labels)\n",
    "X_scaled.head()"
   ]
  },
  {
   "cell_type": "code",
   "execution_count": 30,
   "id": "06a7313a",
   "metadata": {
    "execution": {
     "iopub.execute_input": "2023-12-27T14:49:34.585803Z",
     "iopub.status.busy": "2023-12-27T14:49:34.585055Z",
     "iopub.status.idle": "2023-12-27T14:49:34.591008Z",
     "shell.execute_reply": "2023-12-27T14:49:34.590315Z"
    },
    "papermill": {
     "duration": 0.040257,
     "end_time": "2023-12-27T14:49:34.593106",
     "exception": false,
     "start_time": "2023-12-27T14:49:34.552849",
     "status": "completed"
    },
    "tags": []
   },
   "outputs": [
    {
     "data": {
      "text/plain": [
       "Index(['int.rate', 'installment', 'log.annual.inc', 'dti', 'fico',\n",
       "       'days.with.cr.line', 'revol.bal', 'revol.util'],\n",
       "      dtype='object')"
      ]
     },
     "execution_count": 30,
     "metadata": {},
     "output_type": "execute_result"
    }
   ],
   "source": [
    "X_scaled.columns"
   ]
  },
  {
   "cell_type": "markdown",
   "id": "0bb9549f",
   "metadata": {
    "papermill": {
     "duration": 0.031053,
     "end_time": "2023-12-27T14:49:34.655610",
     "exception": false,
     "start_time": "2023-12-27T14:49:34.624557",
     "status": "completed"
    },
    "tags": []
   },
   "source": [
    "- Function that concats scaled dataframe and dataframe that contains features apart from scalerlabels.\n"
   ]
  },
  {
   "cell_type": "code",
   "execution_count": 31,
   "id": "e350a296",
   "metadata": {
    "execution": {
     "iopub.execute_input": "2023-12-27T14:49:34.721270Z",
     "iopub.status.busy": "2023-12-27T14:49:34.720814Z",
     "iopub.status.idle": "2023-12-27T14:49:34.735637Z",
     "shell.execute_reply": "2023-12-27T14:49:34.734651Z"
    },
    "papermill": {
     "duration": 0.050398,
     "end_time": "2023-12-27T14:49:34.737705",
     "exception": false,
     "start_time": "2023-12-27T14:49:34.687307",
     "status": "completed"
    },
    "tags": []
   },
   "outputs": [
    {
     "data": {
      "text/html": [
       "<div>\n",
       "<style scoped>\n",
       "    .dataframe tbody tr th:only-of-type {\n",
       "        vertical-align: middle;\n",
       "    }\n",
       "\n",
       "    .dataframe tbody tr th {\n",
       "        vertical-align: top;\n",
       "    }\n",
       "\n",
       "    .dataframe thead th {\n",
       "        text-align: right;\n",
       "    }\n",
       "</style>\n",
       "<table border=\"1\" class=\"dataframe\">\n",
       "  <thead>\n",
       "    <tr style=\"text-align: right;\">\n",
       "      <th></th>\n",
       "      <th>credit.policy</th>\n",
       "      <th>inq.last.6mths</th>\n",
       "      <th>delinq.2yrs</th>\n",
       "      <th>pub.rec</th>\n",
       "      <th>purpose_all_other</th>\n",
       "      <th>purpose_credit_card</th>\n",
       "      <th>purpose_debt_consolidation</th>\n",
       "      <th>purpose_educational</th>\n",
       "      <th>purpose_home_improvement</th>\n",
       "      <th>purpose_major_purchase</th>\n",
       "      <th>purpose_small_business</th>\n",
       "    </tr>\n",
       "  </thead>\n",
       "  <tbody>\n",
       "    <tr>\n",
       "      <th>0</th>\n",
       "      <td>1</td>\n",
       "      <td>0</td>\n",
       "      <td>0</td>\n",
       "      <td>0</td>\n",
       "      <td>0</td>\n",
       "      <td>0</td>\n",
       "      <td>1</td>\n",
       "      <td>0</td>\n",
       "      <td>0</td>\n",
       "      <td>0</td>\n",
       "      <td>0</td>\n",
       "    </tr>\n",
       "    <tr>\n",
       "      <th>1</th>\n",
       "      <td>1</td>\n",
       "      <td>0</td>\n",
       "      <td>0</td>\n",
       "      <td>0</td>\n",
       "      <td>0</td>\n",
       "      <td>1</td>\n",
       "      <td>0</td>\n",
       "      <td>0</td>\n",
       "      <td>0</td>\n",
       "      <td>0</td>\n",
       "      <td>0</td>\n",
       "    </tr>\n",
       "    <tr>\n",
       "      <th>2</th>\n",
       "      <td>1</td>\n",
       "      <td>1</td>\n",
       "      <td>0</td>\n",
       "      <td>0</td>\n",
       "      <td>0</td>\n",
       "      <td>0</td>\n",
       "      <td>1</td>\n",
       "      <td>0</td>\n",
       "      <td>0</td>\n",
       "      <td>0</td>\n",
       "      <td>0</td>\n",
       "    </tr>\n",
       "    <tr>\n",
       "      <th>3</th>\n",
       "      <td>1</td>\n",
       "      <td>1</td>\n",
       "      <td>0</td>\n",
       "      <td>0</td>\n",
       "      <td>0</td>\n",
       "      <td>0</td>\n",
       "      <td>1</td>\n",
       "      <td>0</td>\n",
       "      <td>0</td>\n",
       "      <td>0</td>\n",
       "      <td>0</td>\n",
       "    </tr>\n",
       "    <tr>\n",
       "      <th>4</th>\n",
       "      <td>1</td>\n",
       "      <td>0</td>\n",
       "      <td>1</td>\n",
       "      <td>0</td>\n",
       "      <td>0</td>\n",
       "      <td>1</td>\n",
       "      <td>0</td>\n",
       "      <td>0</td>\n",
       "      <td>0</td>\n",
       "      <td>0</td>\n",
       "      <td>0</td>\n",
       "    </tr>\n",
       "  </tbody>\n",
       "</table>\n",
       "</div>"
      ],
      "text/plain": [
       "   credit.policy  inq.last.6mths  delinq.2yrs  pub.rec  purpose_all_other  \\\n",
       "0              1               0            0        0                  0   \n",
       "1              1               0            0        0                  0   \n",
       "2              1               1            0        0                  0   \n",
       "3              1               1            0        0                  0   \n",
       "4              1               0            1        0                  0   \n",
       "\n",
       "   purpose_credit_card  purpose_debt_consolidation  purpose_educational  \\\n",
       "0                    0                           1                    0   \n",
       "1                    1                           0                    0   \n",
       "2                    0                           1                    0   \n",
       "3                    0                           1                    0   \n",
       "4                    1                           0                    0   \n",
       "\n",
       "   purpose_home_improvement  purpose_major_purchase  purpose_small_business  \n",
       "0                         0                       0                       0  \n",
       "1                         0                       0                       0  \n",
       "2                         0                       0                       0  \n",
       "3                         0                       0                       0  \n",
       "4                         0                       0                       0  "
      ]
     },
     "execution_count": 31,
     "metadata": {},
     "output_type": "execute_result"
    }
   ],
   "source": [
    "X.drop(labels=scaler_labels, axis=1).head()"
   ]
  },
  {
   "cell_type": "code",
   "execution_count": 32,
   "id": "357e0d5a",
   "metadata": {
    "execution": {
     "iopub.execute_input": "2023-12-27T14:49:34.804292Z",
     "iopub.status.busy": "2023-12-27T14:49:34.803580Z",
     "iopub.status.idle": "2023-12-27T14:49:34.818969Z",
     "shell.execute_reply": "2023-12-27T14:49:34.817882Z"
    },
    "papermill": {
     "duration": 0.05124,
     "end_time": "2023-12-27T14:49:34.821388",
     "exception": false,
     "start_time": "2023-12-27T14:49:34.770148",
     "status": "completed"
    },
    "tags": []
   },
   "outputs": [
    {
     "data": {
      "text/html": [
       "<div>\n",
       "<style scoped>\n",
       "    .dataframe tbody tr th:only-of-type {\n",
       "        vertical-align: middle;\n",
       "    }\n",
       "\n",
       "    .dataframe tbody tr th {\n",
       "        vertical-align: top;\n",
       "    }\n",
       "\n",
       "    .dataframe thead th {\n",
       "        text-align: right;\n",
       "    }\n",
       "</style>\n",
       "<table border=\"1\" class=\"dataframe\">\n",
       "  <thead>\n",
       "    <tr style=\"text-align: right;\">\n",
       "      <th></th>\n",
       "      <th>credit.policy</th>\n",
       "      <th>inq.last.6mths</th>\n",
       "      <th>delinq.2yrs</th>\n",
       "      <th>pub.rec</th>\n",
       "      <th>purpose_all_other</th>\n",
       "      <th>purpose_credit_card</th>\n",
       "      <th>purpose_debt_consolidation</th>\n",
       "      <th>purpose_educational</th>\n",
       "      <th>purpose_home_improvement</th>\n",
       "      <th>purpose_major_purchase</th>\n",
       "      <th>purpose_small_business</th>\n",
       "    </tr>\n",
       "  </thead>\n",
       "  <tbody>\n",
       "    <tr>\n",
       "      <th>0</th>\n",
       "      <td>1</td>\n",
       "      <td>0</td>\n",
       "      <td>0</td>\n",
       "      <td>0</td>\n",
       "      <td>0</td>\n",
       "      <td>0</td>\n",
       "      <td>1</td>\n",
       "      <td>0</td>\n",
       "      <td>0</td>\n",
       "      <td>0</td>\n",
       "      <td>0</td>\n",
       "    </tr>\n",
       "    <tr>\n",
       "      <th>1</th>\n",
       "      <td>1</td>\n",
       "      <td>0</td>\n",
       "      <td>0</td>\n",
       "      <td>0</td>\n",
       "      <td>0</td>\n",
       "      <td>1</td>\n",
       "      <td>0</td>\n",
       "      <td>0</td>\n",
       "      <td>0</td>\n",
       "      <td>0</td>\n",
       "      <td>0</td>\n",
       "    </tr>\n",
       "    <tr>\n",
       "      <th>2</th>\n",
       "      <td>1</td>\n",
       "      <td>1</td>\n",
       "      <td>0</td>\n",
       "      <td>0</td>\n",
       "      <td>0</td>\n",
       "      <td>0</td>\n",
       "      <td>1</td>\n",
       "      <td>0</td>\n",
       "      <td>0</td>\n",
       "      <td>0</td>\n",
       "      <td>0</td>\n",
       "    </tr>\n",
       "    <tr>\n",
       "      <th>3</th>\n",
       "      <td>1</td>\n",
       "      <td>1</td>\n",
       "      <td>0</td>\n",
       "      <td>0</td>\n",
       "      <td>0</td>\n",
       "      <td>0</td>\n",
       "      <td>1</td>\n",
       "      <td>0</td>\n",
       "      <td>0</td>\n",
       "      <td>0</td>\n",
       "      <td>0</td>\n",
       "    </tr>\n",
       "    <tr>\n",
       "      <th>4</th>\n",
       "      <td>1</td>\n",
       "      <td>0</td>\n",
       "      <td>1</td>\n",
       "      <td>0</td>\n",
       "      <td>0</td>\n",
       "      <td>1</td>\n",
       "      <td>0</td>\n",
       "      <td>0</td>\n",
       "      <td>0</td>\n",
       "      <td>0</td>\n",
       "      <td>0</td>\n",
       "    </tr>\n",
       "  </tbody>\n",
       "</table>\n",
       "</div>"
      ],
      "text/plain": [
       "   credit.policy  inq.last.6mths  delinq.2yrs  pub.rec  purpose_all_other  \\\n",
       "0              1               0            0        0                  0   \n",
       "1              1               0            0        0                  0   \n",
       "2              1               1            0        0                  0   \n",
       "3              1               1            0        0                  0   \n",
       "4              1               0            1        0                  0   \n",
       "\n",
       "   purpose_credit_card  purpose_debt_consolidation  purpose_educational  \\\n",
       "0                    0                           1                    0   \n",
       "1                    1                           0                    0   \n",
       "2                    0                           1                    0   \n",
       "3                    0                           1                    0   \n",
       "4                    1                           0                    0   \n",
       "\n",
       "   purpose_home_improvement  purpose_major_purchase  purpose_small_business  \n",
       "0                         0                       0                       0  \n",
       "1                         0                       0                       0  \n",
       "2                         0                       0                       0  \n",
       "3                         0                       0                       0  \n",
       "4                         0                       0                       0  "
      ]
     },
     "execution_count": 32,
     "metadata": {},
     "output_type": "execute_result"
    }
   ],
   "source": [
    "X_remvals = X.drop(labels=scaler_labels, axis=1)\n",
    "X_remvals.head()"
   ]
  },
  {
   "cell_type": "code",
   "execution_count": 33,
   "id": "96f3f4a7",
   "metadata": {
    "execution": {
     "iopub.execute_input": "2023-12-27T14:49:34.889098Z",
     "iopub.status.busy": "2023-12-27T14:49:34.888312Z",
     "iopub.status.idle": "2023-12-27T14:49:34.904243Z",
     "shell.execute_reply": "2023-12-27T14:49:34.903141Z"
    },
    "papermill": {
     "duration": 0.052208,
     "end_time": "2023-12-27T14:49:34.906578",
     "exception": false,
     "start_time": "2023-12-27T14:49:34.854370",
     "status": "completed"
    },
    "tags": []
   },
   "outputs": [
    {
     "data": {
      "text/html": [
       "<div>\n",
       "<style scoped>\n",
       "    .dataframe tbody tr th:only-of-type {\n",
       "        vertical-align: middle;\n",
       "    }\n",
       "\n",
       "    .dataframe tbody tr th {\n",
       "        vertical-align: top;\n",
       "    }\n",
       "\n",
       "    .dataframe thead th {\n",
       "        text-align: right;\n",
       "    }\n",
       "</style>\n",
       "<table border=\"1\" class=\"dataframe\">\n",
       "  <thead>\n",
       "    <tr style=\"text-align: right;\">\n",
       "      <th></th>\n",
       "      <th>int.rate</th>\n",
       "      <th>installment</th>\n",
       "      <th>log.annual.inc</th>\n",
       "      <th>dti</th>\n",
       "      <th>fico</th>\n",
       "      <th>days.with.cr.line</th>\n",
       "      <th>revol.bal</th>\n",
       "      <th>revol.util</th>\n",
       "    </tr>\n",
       "  </thead>\n",
       "  <tbody>\n",
       "    <tr>\n",
       "      <th>0</th>\n",
       "      <td>-0.139318</td>\n",
       "      <td>2.463099</td>\n",
       "      <td>0.680388</td>\n",
       "      <td>0.998505</td>\n",
       "      <td>0.688825</td>\n",
       "      <td>0.432230</td>\n",
       "      <td>0.353732</td>\n",
       "      <td>0.182704</td>\n",
       "    </tr>\n",
       "    <tr>\n",
       "      <th>1</th>\n",
       "      <td>-0.578868</td>\n",
       "      <td>-0.438854</td>\n",
       "      <td>0.244031</td>\n",
       "      <td>0.244540</td>\n",
       "      <td>-0.101303</td>\n",
       "      <td>-0.721230</td>\n",
       "      <td>0.495018</td>\n",
       "      <td>1.030602</td>\n",
       "    </tr>\n",
       "    <tr>\n",
       "      <th>2</th>\n",
       "      <td>0.486484</td>\n",
       "      <td>0.230708</td>\n",
       "      <td>-0.908659</td>\n",
       "      <td>-0.141885</td>\n",
       "      <td>-0.759742</td>\n",
       "      <td>0.059770</td>\n",
       "      <td>-0.397073</td>\n",
       "      <td>-0.730683</td>\n",
       "    </tr>\n",
       "    <tr>\n",
       "      <th>3</th>\n",
       "      <td>-0.813544</td>\n",
       "      <td>-0.757022</td>\n",
       "      <td>0.680388</td>\n",
       "      <td>-0.654697</td>\n",
       "      <td>0.030385</td>\n",
       "      <td>-0.745277</td>\n",
       "      <td>0.496321</td>\n",
       "      <td>0.909966</td>\n",
       "    </tr>\n",
       "    <tr>\n",
       "      <th>4</th>\n",
       "      <td>0.743509</td>\n",
       "      <td>-1.043992</td>\n",
       "      <td>0.597961</td>\n",
       "      <td>0.343326</td>\n",
       "      <td>-1.154806</td>\n",
       "      <td>-0.198161</td>\n",
       "      <td>-0.360663</td>\n",
       "      <td>-0.251586</td>\n",
       "    </tr>\n",
       "  </tbody>\n",
       "</table>\n",
       "</div>"
      ],
      "text/plain": [
       "   int.rate  installment  log.annual.inc       dti      fico  \\\n",
       "0 -0.139318     2.463099        0.680388  0.998505  0.688825   \n",
       "1 -0.578868    -0.438854        0.244031  0.244540 -0.101303   \n",
       "2  0.486484     0.230708       -0.908659 -0.141885 -0.759742   \n",
       "3 -0.813544    -0.757022        0.680388 -0.654697  0.030385   \n",
       "4  0.743509    -1.043992        0.597961  0.343326 -1.154806   \n",
       "\n",
       "   days.with.cr.line  revol.bal  revol.util  \n",
       "0           0.432230   0.353732    0.182704  \n",
       "1          -0.721230   0.495018    1.030602  \n",
       "2           0.059770  -0.397073   -0.730683  \n",
       "3          -0.745277   0.496321    0.909966  \n",
       "4          -0.198161  -0.360663   -0.251586  "
      ]
     },
     "execution_count": 33,
     "metadata": {},
     "output_type": "execute_result"
    }
   ],
   "source": [
    "X_scaled.head()"
   ]
  },
  {
   "cell_type": "code",
   "execution_count": 34,
   "id": "bdc56b9d",
   "metadata": {
    "execution": {
     "iopub.execute_input": "2023-12-27T14:49:34.976092Z",
     "iopub.status.busy": "2023-12-27T14:49:34.975332Z",
     "iopub.status.idle": "2023-12-27T14:49:34.980676Z",
     "shell.execute_reply": "2023-12-27T14:49:34.979839Z"
    },
    "papermill": {
     "duration": 0.043282,
     "end_time": "2023-12-27T14:49:34.982916",
     "exception": false,
     "start_time": "2023-12-27T14:49:34.939634",
     "status": "completed"
    },
    "tags": []
   },
   "outputs": [],
   "source": [
    "def concatscaled():\n",
    "    final_data = pd.concat(objs =[X_scaled, X_remvals], axis=1)\n",
    "    return final_data"
   ]
  },
  {
   "cell_type": "code",
   "execution_count": 35,
   "id": "a2ceecaa",
   "metadata": {
    "execution": {
     "iopub.execute_input": "2023-12-27T14:49:35.051787Z",
     "iopub.status.busy": "2023-12-27T14:49:35.051276Z",
     "iopub.status.idle": "2023-12-27T14:49:35.074002Z",
     "shell.execute_reply": "2023-12-27T14:49:35.072935Z"
    },
    "papermill": {
     "duration": 0.059082,
     "end_time": "2023-12-27T14:49:35.076314",
     "exception": false,
     "start_time": "2023-12-27T14:49:35.017232",
     "status": "completed"
    },
    "tags": []
   },
   "outputs": [
    {
     "data": {
      "text/html": [
       "<div>\n",
       "<style scoped>\n",
       "    .dataframe tbody tr th:only-of-type {\n",
       "        vertical-align: middle;\n",
       "    }\n",
       "\n",
       "    .dataframe tbody tr th {\n",
       "        vertical-align: top;\n",
       "    }\n",
       "\n",
       "    .dataframe thead th {\n",
       "        text-align: right;\n",
       "    }\n",
       "</style>\n",
       "<table border=\"1\" class=\"dataframe\">\n",
       "  <thead>\n",
       "    <tr style=\"text-align: right;\">\n",
       "      <th></th>\n",
       "      <th>int.rate</th>\n",
       "      <th>installment</th>\n",
       "      <th>log.annual.inc</th>\n",
       "      <th>dti</th>\n",
       "      <th>fico</th>\n",
       "      <th>days.with.cr.line</th>\n",
       "      <th>revol.bal</th>\n",
       "      <th>revol.util</th>\n",
       "      <th>credit.policy</th>\n",
       "      <th>inq.last.6mths</th>\n",
       "      <th>delinq.2yrs</th>\n",
       "      <th>pub.rec</th>\n",
       "      <th>purpose_all_other</th>\n",
       "      <th>purpose_credit_card</th>\n",
       "      <th>purpose_debt_consolidation</th>\n",
       "      <th>purpose_educational</th>\n",
       "      <th>purpose_home_improvement</th>\n",
       "      <th>purpose_major_purchase</th>\n",
       "      <th>purpose_small_business</th>\n",
       "    </tr>\n",
       "  </thead>\n",
       "  <tbody>\n",
       "    <tr>\n",
       "      <th>0</th>\n",
       "      <td>-0.139318</td>\n",
       "      <td>2.463099</td>\n",
       "      <td>0.680388</td>\n",
       "      <td>0.998505</td>\n",
       "      <td>0.688825</td>\n",
       "      <td>0.432230</td>\n",
       "      <td>0.353732</td>\n",
       "      <td>0.182704</td>\n",
       "      <td>1</td>\n",
       "      <td>0</td>\n",
       "      <td>0</td>\n",
       "      <td>0</td>\n",
       "      <td>0</td>\n",
       "      <td>0</td>\n",
       "      <td>1</td>\n",
       "      <td>0</td>\n",
       "      <td>0</td>\n",
       "      <td>0</td>\n",
       "      <td>0</td>\n",
       "    </tr>\n",
       "    <tr>\n",
       "      <th>1</th>\n",
       "      <td>-0.578868</td>\n",
       "      <td>-0.438854</td>\n",
       "      <td>0.244031</td>\n",
       "      <td>0.244540</td>\n",
       "      <td>-0.101303</td>\n",
       "      <td>-0.721230</td>\n",
       "      <td>0.495018</td>\n",
       "      <td>1.030602</td>\n",
       "      <td>1</td>\n",
       "      <td>0</td>\n",
       "      <td>0</td>\n",
       "      <td>0</td>\n",
       "      <td>0</td>\n",
       "      <td>1</td>\n",
       "      <td>0</td>\n",
       "      <td>0</td>\n",
       "      <td>0</td>\n",
       "      <td>0</td>\n",
       "      <td>0</td>\n",
       "    </tr>\n",
       "    <tr>\n",
       "      <th>2</th>\n",
       "      <td>0.486484</td>\n",
       "      <td>0.230708</td>\n",
       "      <td>-0.908659</td>\n",
       "      <td>-0.141885</td>\n",
       "      <td>-0.759742</td>\n",
       "      <td>0.059770</td>\n",
       "      <td>-0.397073</td>\n",
       "      <td>-0.730683</td>\n",
       "      <td>1</td>\n",
       "      <td>1</td>\n",
       "      <td>0</td>\n",
       "      <td>0</td>\n",
       "      <td>0</td>\n",
       "      <td>0</td>\n",
       "      <td>1</td>\n",
       "      <td>0</td>\n",
       "      <td>0</td>\n",
       "      <td>0</td>\n",
       "      <td>0</td>\n",
       "    </tr>\n",
       "    <tr>\n",
       "      <th>3</th>\n",
       "      <td>-0.813544</td>\n",
       "      <td>-0.757022</td>\n",
       "      <td>0.680388</td>\n",
       "      <td>-0.654697</td>\n",
       "      <td>0.030385</td>\n",
       "      <td>-0.745277</td>\n",
       "      <td>0.496321</td>\n",
       "      <td>0.909966</td>\n",
       "      <td>1</td>\n",
       "      <td>1</td>\n",
       "      <td>0</td>\n",
       "      <td>0</td>\n",
       "      <td>0</td>\n",
       "      <td>0</td>\n",
       "      <td>1</td>\n",
       "      <td>0</td>\n",
       "      <td>0</td>\n",
       "      <td>0</td>\n",
       "      <td>0</td>\n",
       "    </tr>\n",
       "    <tr>\n",
       "      <th>4</th>\n",
       "      <td>0.743509</td>\n",
       "      <td>-1.043992</td>\n",
       "      <td>0.597961</td>\n",
       "      <td>0.343326</td>\n",
       "      <td>-1.154806</td>\n",
       "      <td>-0.198161</td>\n",
       "      <td>-0.360663</td>\n",
       "      <td>-0.251586</td>\n",
       "      <td>1</td>\n",
       "      <td>0</td>\n",
       "      <td>1</td>\n",
       "      <td>0</td>\n",
       "      <td>0</td>\n",
       "      <td>1</td>\n",
       "      <td>0</td>\n",
       "      <td>0</td>\n",
       "      <td>0</td>\n",
       "      <td>0</td>\n",
       "      <td>0</td>\n",
       "    </tr>\n",
       "  </tbody>\n",
       "</table>\n",
       "</div>"
      ],
      "text/plain": [
       "   int.rate  installment  log.annual.inc       dti      fico  \\\n",
       "0 -0.139318     2.463099        0.680388  0.998505  0.688825   \n",
       "1 -0.578868    -0.438854        0.244031  0.244540 -0.101303   \n",
       "2  0.486484     0.230708       -0.908659 -0.141885 -0.759742   \n",
       "3 -0.813544    -0.757022        0.680388 -0.654697  0.030385   \n",
       "4  0.743509    -1.043992        0.597961  0.343326 -1.154806   \n",
       "\n",
       "   days.with.cr.line  revol.bal  revol.util  credit.policy  inq.last.6mths  \\\n",
       "0           0.432230   0.353732    0.182704              1               0   \n",
       "1          -0.721230   0.495018    1.030602              1               0   \n",
       "2           0.059770  -0.397073   -0.730683              1               1   \n",
       "3          -0.745277   0.496321    0.909966              1               1   \n",
       "4          -0.198161  -0.360663   -0.251586              1               0   \n",
       "\n",
       "   delinq.2yrs  pub.rec  purpose_all_other  purpose_credit_card  \\\n",
       "0            0        0                  0                    0   \n",
       "1            0        0                  0                    1   \n",
       "2            0        0                  0                    0   \n",
       "3            0        0                  0                    0   \n",
       "4            1        0                  0                    1   \n",
       "\n",
       "   purpose_debt_consolidation  purpose_educational  purpose_home_improvement  \\\n",
       "0                           1                    0                         0   \n",
       "1                           0                    0                         0   \n",
       "2                           1                    0                         0   \n",
       "3                           1                    0                         0   \n",
       "4                           0                    0                         0   \n",
       "\n",
       "   purpose_major_purchase  purpose_small_business  \n",
       "0                       0                       0  \n",
       "1                       0                       0  \n",
       "2                       0                       0  \n",
       "3                       0                       0  \n",
       "4                       0                       0  "
      ]
     },
     "execution_count": 35,
     "metadata": {},
     "output_type": "execute_result"
    }
   ],
   "source": [
    "final_data = concatscaled()\n",
    "final_data.head()"
   ]
  },
  {
   "cell_type": "markdown",
   "id": "d5b128fe",
   "metadata": {
    "papermill": {
     "duration": 0.032767,
     "end_time": "2023-12-27T14:49:35.142723",
     "exception": false,
     "start_time": "2023-12-27T14:49:35.109956",
     "status": "completed"
    },
    "tags": []
   },
   "source": [
    "- Function that prepares the data according to the required Train-Test split."
   ]
  },
  {
   "cell_type": "code",
   "execution_count": 36,
   "id": "164c69ef",
   "metadata": {
    "execution": {
     "iopub.execute_input": "2023-12-27T14:49:35.212336Z",
     "iopub.status.busy": "2023-12-27T14:49:35.211881Z",
     "iopub.status.idle": "2023-12-27T14:49:35.218522Z",
     "shell.execute_reply": "2023-12-27T14:49:35.217433Z"
    },
    "papermill": {
     "duration": 0.043528,
     "end_time": "2023-12-27T14:49:35.220818",
     "exception": false,
     "start_time": "2023-12-27T14:49:35.177290",
     "status": "completed"
    },
    "tags": []
   },
   "outputs": [],
   "source": [
    "def data_prep(input=None, output=None):\n",
    "    X_train, X_test, y_train, y_test = train_test_split(input, output, test_size = 0.20, random_state=42)\n",
    "    return X_train, X_test, y_train, y_test"
   ]
  },
  {
   "cell_type": "code",
   "execution_count": 37,
   "id": "79459fa1",
   "metadata": {
    "execution": {
     "iopub.execute_input": "2023-12-27T14:49:35.289878Z",
     "iopub.status.busy": "2023-12-27T14:49:35.289476Z",
     "iopub.status.idle": "2023-12-27T14:49:35.299093Z",
     "shell.execute_reply": "2023-12-27T14:49:35.298216Z"
    },
    "papermill": {
     "duration": 0.04697,
     "end_time": "2023-12-27T14:49:35.301552",
     "exception": false,
     "start_time": "2023-12-27T14:49:35.254582",
     "status": "completed"
    },
    "tags": []
   },
   "outputs": [],
   "source": [
    "X_train, X_test, y_train, y_test = data_prep(input = final_data, output = y)"
   ]
  },
  {
   "cell_type": "code",
   "execution_count": 38,
   "id": "06ab87df",
   "metadata": {
    "execution": {
     "iopub.execute_input": "2023-12-27T14:49:35.371745Z",
     "iopub.status.busy": "2023-12-27T14:49:35.371371Z",
     "iopub.status.idle": "2023-12-27T14:49:35.380099Z",
     "shell.execute_reply": "2023-12-27T14:49:35.378998Z"
    },
    "papermill": {
     "duration": 0.047392,
     "end_time": "2023-12-27T14:49:35.382757",
     "exception": false,
     "start_time": "2023-12-27T14:49:35.335365",
     "status": "completed"
    },
    "tags": []
   },
   "outputs": [
    {
     "name": "stdout",
     "output_type": "stream",
     "text": [
      "(9578,)\n"
     ]
    },
    {
     "data": {
      "text/plain": [
       "0    0\n",
       "1    0\n",
       "2    0\n",
       "3    0\n",
       "4    0\n",
       "Name: not.fully.paid, dtype: int64"
      ]
     },
     "execution_count": 38,
     "metadata": {},
     "output_type": "execute_result"
    }
   ],
   "source": [
    "print(y.shape)\n",
    "y.head()"
   ]
  },
  {
   "cell_type": "code",
   "execution_count": 39,
   "id": "372b2fce",
   "metadata": {
    "execution": {
     "iopub.execute_input": "2023-12-27T14:49:35.451541Z",
     "iopub.status.busy": "2023-12-27T14:49:35.451135Z",
     "iopub.status.idle": "2023-12-27T14:49:35.457021Z",
     "shell.execute_reply": "2023-12-27T14:49:35.455987Z"
    },
    "papermill": {
     "duration": 0.043643,
     "end_time": "2023-12-27T14:49:35.459935",
     "exception": false,
     "start_time": "2023-12-27T14:49:35.416292",
     "status": "completed"
    },
    "tags": []
   },
   "outputs": [
    {
     "name": "stdout",
     "output_type": "stream",
     "text": [
      "(7662, 19)\n",
      "(1916, 19)\n",
      "(7662,)\n",
      "(1916,)\n"
     ]
    }
   ],
   "source": [
    "print(X_train.shape)\n",
    "print(X_test.shape)\n",
    "print(y_train.shape)\n",
    "print(y_test.shape)"
   ]
  },
  {
   "cell_type": "markdown",
   "id": "2f97e05b",
   "metadata": {
    "papermill": {
     "duration": 0.033255,
     "end_time": "2023-12-27T14:49:35.527004",
     "exception": false,
     "start_time": "2023-12-27T14:49:35.493749",
     "status": "completed"
    },
    "tags": []
   },
   "source": [
    "## 8. Model Development & Evaluation\n",
    "\n",
    "\n",
    "- In this section, we are developing a decision tree-based model.\n",
    "\n",
    "- For **evaluation purposes** we are focussing on the **precision and recall score**.\n",
    "\n",
    "- Here, we are trying to **generalize results** i.e. same results or error on testing data as that of training data."
   ]
  },
  {
   "cell_type": "code",
   "execution_count": 40,
   "id": "9a5047f4",
   "metadata": {
    "execution": {
     "iopub.execute_input": "2023-12-27T14:49:35.596123Z",
     "iopub.status.busy": "2023-12-27T14:49:35.595705Z",
     "iopub.status.idle": "2023-12-27T14:49:35.729128Z",
     "shell.execute_reply": "2023-12-27T14:49:35.728050Z"
    },
    "papermill": {
     "duration": 0.171271,
     "end_time": "2023-12-27T14:49:35.731611",
     "exception": false,
     "start_time": "2023-12-27T14:49:35.560340",
     "status": "completed"
    },
    "tags": []
   },
   "outputs": [
    {
     "data": {
      "text/html": [
       "<style>#sk-container-id-1 {color: black;background-color: white;}#sk-container-id-1 pre{padding: 0;}#sk-container-id-1 div.sk-toggleable {background-color: white;}#sk-container-id-1 label.sk-toggleable__label {cursor: pointer;display: block;width: 100%;margin-bottom: 0;padding: 0.3em;box-sizing: border-box;text-align: center;}#sk-container-id-1 label.sk-toggleable__label-arrow:before {content: \"▸\";float: left;margin-right: 0.25em;color: #696969;}#sk-container-id-1 label.sk-toggleable__label-arrow:hover:before {color: black;}#sk-container-id-1 div.sk-estimator:hover label.sk-toggleable__label-arrow:before {color: black;}#sk-container-id-1 div.sk-toggleable__content {max-height: 0;max-width: 0;overflow: hidden;text-align: left;background-color: #f0f8ff;}#sk-container-id-1 div.sk-toggleable__content pre {margin: 0.2em;color: black;border-radius: 0.25em;background-color: #f0f8ff;}#sk-container-id-1 input.sk-toggleable__control:checked~div.sk-toggleable__content {max-height: 200px;max-width: 100%;overflow: auto;}#sk-container-id-1 input.sk-toggleable__control:checked~label.sk-toggleable__label-arrow:before {content: \"▾\";}#sk-container-id-1 div.sk-estimator input.sk-toggleable__control:checked~label.sk-toggleable__label {background-color: #d4ebff;}#sk-container-id-1 div.sk-label input.sk-toggleable__control:checked~label.sk-toggleable__label {background-color: #d4ebff;}#sk-container-id-1 input.sk-hidden--visually {border: 0;clip: rect(1px 1px 1px 1px);clip: rect(1px, 1px, 1px, 1px);height: 1px;margin: -1px;overflow: hidden;padding: 0;position: absolute;width: 1px;}#sk-container-id-1 div.sk-estimator {font-family: monospace;background-color: #f0f8ff;border: 1px dotted black;border-radius: 0.25em;box-sizing: border-box;margin-bottom: 0.5em;}#sk-container-id-1 div.sk-estimator:hover {background-color: #d4ebff;}#sk-container-id-1 div.sk-parallel-item::after {content: \"\";width: 100%;border-bottom: 1px solid gray;flex-grow: 1;}#sk-container-id-1 div.sk-label:hover label.sk-toggleable__label {background-color: #d4ebff;}#sk-container-id-1 div.sk-serial::before {content: \"\";position: absolute;border-left: 1px solid gray;box-sizing: border-box;top: 0;bottom: 0;left: 50%;z-index: 0;}#sk-container-id-1 div.sk-serial {display: flex;flex-direction: column;align-items: center;background-color: white;padding-right: 0.2em;padding-left: 0.2em;position: relative;}#sk-container-id-1 div.sk-item {position: relative;z-index: 1;}#sk-container-id-1 div.sk-parallel {display: flex;align-items: stretch;justify-content: center;background-color: white;position: relative;}#sk-container-id-1 div.sk-item::before, #sk-container-id-1 div.sk-parallel-item::before {content: \"\";position: absolute;border-left: 1px solid gray;box-sizing: border-box;top: 0;bottom: 0;left: 50%;z-index: -1;}#sk-container-id-1 div.sk-parallel-item {display: flex;flex-direction: column;z-index: 1;position: relative;background-color: white;}#sk-container-id-1 div.sk-parallel-item:first-child::after {align-self: flex-end;width: 50%;}#sk-container-id-1 div.sk-parallel-item:last-child::after {align-self: flex-start;width: 50%;}#sk-container-id-1 div.sk-parallel-item:only-child::after {width: 0;}#sk-container-id-1 div.sk-dashed-wrapped {border: 1px dashed gray;margin: 0 0.4em 0.5em 0.4em;box-sizing: border-box;padding-bottom: 0.4em;background-color: white;}#sk-container-id-1 div.sk-label label {font-family: monospace;font-weight: bold;display: inline-block;line-height: 1.2em;}#sk-container-id-1 div.sk-label-container {text-align: center;}#sk-container-id-1 div.sk-container {/* jupyter's `normalize.less` sets `[hidden] { display: none; }` but bootstrap.min.css set `[hidden] { display: none !important; }` so we also need the `!important` here to be able to override the default hidden behavior on the sphinx rendered scikit-learn.org. See: https://github.com/scikit-learn/scikit-learn/issues/21755 */display: inline-block !important;position: relative;}#sk-container-id-1 div.sk-text-repr-fallback {display: none;}</style><div id=\"sk-container-id-1\" class=\"sk-top-container\"><div class=\"sk-text-repr-fallback\"><pre>DecisionTreeClassifier(random_state=0)</pre><b>In a Jupyter environment, please rerun this cell to show the HTML representation or trust the notebook. <br />On GitHub, the HTML representation is unable to render, please try loading this page with nbviewer.org.</b></div><div class=\"sk-container\" hidden><div class=\"sk-item\"><div class=\"sk-estimator sk-toggleable\"><input class=\"sk-toggleable__control sk-hidden--visually\" id=\"sk-estimator-id-1\" type=\"checkbox\" checked><label for=\"sk-estimator-id-1\" class=\"sk-toggleable__label sk-toggleable__label-arrow\">DecisionTreeClassifier</label><div class=\"sk-toggleable__content\"><pre>DecisionTreeClassifier(random_state=0)</pre></div></div></div></div></div>"
      ],
      "text/plain": [
       "DecisionTreeClassifier(random_state=0)"
      ]
     },
     "execution_count": 40,
     "metadata": {},
     "output_type": "execute_result"
    }
   ],
   "source": [
    "clf_n = DecisionTreeClassifier(random_state = 0)\n",
    "clf_n.fit(X_train, y_train)"
   ]
  },
  {
   "cell_type": "code",
   "execution_count": 41,
   "id": "9ea7226e",
   "metadata": {
    "execution": {
     "iopub.execute_input": "2023-12-27T14:49:35.803056Z",
     "iopub.status.busy": "2023-12-27T14:49:35.802675Z",
     "iopub.status.idle": "2023-12-27T14:49:35.814601Z",
     "shell.execute_reply": "2023-12-27T14:49:35.813413Z"
    },
    "papermill": {
     "duration": 0.050814,
     "end_time": "2023-12-27T14:49:35.817286",
     "exception": false,
     "start_time": "2023-12-27T14:49:35.766472",
     "status": "completed"
    },
    "tags": []
   },
   "outputs": [],
   "source": [
    "y_train_pred = clf_n.predict(X_train)\n",
    "y_test_pred = clf_n.predict(X_test)"
   ]
  },
  {
   "cell_type": "code",
   "execution_count": 42,
   "id": "687e2be3",
   "metadata": {
    "execution": {
     "iopub.execute_input": "2023-12-27T14:49:35.890833Z",
     "iopub.status.busy": "2023-12-27T14:49:35.889929Z",
     "iopub.status.idle": "2023-12-27T14:49:35.901676Z",
     "shell.execute_reply": "2023-12-27T14:49:35.900363Z"
    },
    "papermill": {
     "duration": 0.051008,
     "end_time": "2023-12-27T14:49:35.903944",
     "exception": false,
     "start_time": "2023-12-27T14:49:35.852936",
     "status": "completed"
    },
    "tags": []
   },
   "outputs": [
    {
     "name": "stdout",
     "output_type": "stream",
     "text": [
      "                         Predicted not fully paid  Predictrd Fully paid\n",
      "Actually not fully paid                      6434                     0\n",
      "Fully paid                                      0                  1228\n"
     ]
    }
   ],
   "source": [
    "confusion_matrix1 = pd.DataFrame(confusion_matrix(y_train, y_train_pred))\n",
    "\n",
    "confusion_matrix1.index = ['Actually not fully paid', 'Fully paid']\n",
    "confusion_matrix1.columns = ['Predicted not fully paid', 'Predictrd Fully paid']\n",
    "print(confusion_matrix1)"
   ]
  },
  {
   "cell_type": "code",
   "execution_count": 43,
   "id": "a89aa1d4",
   "metadata": {
    "execution": {
     "iopub.execute_input": "2023-12-27T14:49:35.974933Z",
     "iopub.status.busy": "2023-12-27T14:49:35.974520Z",
     "iopub.status.idle": "2023-12-27T14:49:35.984407Z",
     "shell.execute_reply": "2023-12-27T14:49:35.983661Z"
    },
    "papermill": {
     "duration": 0.048023,
     "end_time": "2023-12-27T14:49:35.986610",
     "exception": false,
     "start_time": "2023-12-27T14:49:35.938587",
     "status": "completed"
    },
    "tags": []
   },
   "outputs": [
    {
     "name": "stdout",
     "output_type": "stream",
     "text": [
      "                         Predicted not fully paid  Predictrd Fully paid\n",
      "Actually not fully paid                      1348                   263\n",
      "Fully paid                                    227                    78\n"
     ]
    }
   ],
   "source": [
    "confusion_matrix1 = pd.DataFrame(confusion_matrix(y_test, y_test_pred))\n",
    "\n",
    "confusion_matrix1.index = ['Actually not fully paid', 'Fully paid']\n",
    "confusion_matrix1.columns = ['Predicted not fully paid', 'Predictrd Fully paid']\n",
    "print(confusion_matrix1)"
   ]
  },
  {
   "cell_type": "markdown",
   "id": "cca4e3ca",
   "metadata": {
    "papermill": {
     "duration": 0.03469,
     "end_time": "2023-12-27T14:49:36.056542",
     "exception": false,
     "start_time": "2023-12-27T14:49:36.021852",
     "status": "completed"
    },
    "tags": []
   },
   "source": [
    "**Observations:**\n",
    "\n",
    "- **Train Data:**\n",
    "  - Model predicted **6434** instances correctly for **negative class** while **1228** instances were predicted **correctly** for **positive class**.\n",
    "  - Model **identified 0** instances negative but in actual they **were positive**.\n",
    "  - Model **identified 0** instances positive but in actual they **were negative**.\n",
    "\n",
    "- **Test Data:**\n",
    "  - Model predicted **1348** instances correctly for **negative class** while **78** instances were predicted **correctly** for **positive class**.\n",
    "  - Model **identified 263** instances negative but in actual it **was positive**.\n",
    "  - Model **identified 227** instances positive but in actual they **were negative**."
   ]
  },
  {
   "cell_type": "markdown",
   "id": "abb24925",
   "metadata": {
    "papermill": {
     "duration": 0.034336,
     "end_time": "2023-12-27T14:49:36.126277",
     "exception": false,
     "start_time": "2023-12-27T14:49:36.091941",
     "status": "completed"
    },
    "tags": []
   },
   "source": [
    "- A total of **1348+78 = 1426** are the correct predictions and **227+263 = 490** are the false predictions."
   ]
  },
  {
   "cell_type": "markdown",
   "id": "8f420d73",
   "metadata": {
    "papermill": {
     "duration": 0.034663,
     "end_time": "2023-12-27T14:49:36.195384",
     "exception": false,
     "start_time": "2023-12-27T14:49:36.160721",
     "status": "completed"
    },
    "tags": []
   },
   "source": [
    "- Function that generates a classification report using the decision tree classifier developed above."
   ]
  },
  {
   "cell_type": "code",
   "execution_count": 44,
   "id": "a52281a2",
   "metadata": {
    "execution": {
     "iopub.execute_input": "2023-12-27T14:49:36.267525Z",
     "iopub.status.busy": "2023-12-27T14:49:36.267149Z",
     "iopub.status.idle": "2023-12-27T14:49:36.273036Z",
     "shell.execute_reply": "2023-12-27T14:49:36.271913Z"
    },
    "papermill": {
     "duration": 0.04459,
     "end_time": "2023-12-27T14:49:36.275538",
     "exception": false,
     "start_time": "2023-12-27T14:49:36.230948",
     "status": "completed"
    },
    "tags": []
   },
   "outputs": [],
   "source": [
    "def getclassreport():\n",
    "    \n",
    "    y_train_pred = clf_n.predict(X_train)\n",
    "    y_test_pred = clf_n.predict(X_test)\n",
    "    \n",
    "    Training_report = classification_report(y_train, y_train_pred)\n",
    "    Testing_report = classification_report(y_test, y_test_pred)\n",
    "       \n",
    "    print('Training Report')\n",
    "    print(Training_report)\n",
    "    print('Testing Report')\n",
    "    print(Testing_report)\n",
    "    return "
   ]
  },
  {
   "cell_type": "code",
   "execution_count": 45,
   "id": "564f1272",
   "metadata": {
    "execution": {
     "iopub.execute_input": "2023-12-27T14:49:36.348886Z",
     "iopub.status.busy": "2023-12-27T14:49:36.348522Z",
     "iopub.status.idle": "2023-12-27T14:49:36.389107Z",
     "shell.execute_reply": "2023-12-27T14:49:36.387808Z"
    },
    "papermill": {
     "duration": 0.081056,
     "end_time": "2023-12-27T14:49:36.391475",
     "exception": false,
     "start_time": "2023-12-27T14:49:36.310419",
     "status": "completed"
    },
    "tags": []
   },
   "outputs": [
    {
     "name": "stdout",
     "output_type": "stream",
     "text": [
      "Training Report\n",
      "              precision    recall  f1-score   support\n",
      "\n",
      "           0       1.00      1.00      1.00      6434\n",
      "           1       1.00      1.00      1.00      1228\n",
      "\n",
      "    accuracy                           1.00      7662\n",
      "   macro avg       1.00      1.00      1.00      7662\n",
      "weighted avg       1.00      1.00      1.00      7662\n",
      "\n",
      "Testing Report\n",
      "              precision    recall  f1-score   support\n",
      "\n",
      "           0       0.86      0.84      0.85      1611\n",
      "           1       0.23      0.26      0.24       305\n",
      "\n",
      "    accuracy                           0.74      1916\n",
      "   macro avg       0.54      0.55      0.54      1916\n",
      "weighted avg       0.76      0.74      0.75      1916\n",
      "\n"
     ]
    }
   ],
   "source": [
    "getclassreport()                   #clasificication report"
   ]
  },
  {
   "cell_type": "code",
   "execution_count": 46,
   "id": "4e8d6351",
   "metadata": {
    "execution": {
     "iopub.execute_input": "2023-12-27T14:49:36.462817Z",
     "iopub.status.busy": "2023-12-27T14:49:36.462388Z",
     "iopub.status.idle": "2023-12-27T14:49:36.470754Z",
     "shell.execute_reply": "2023-12-27T14:49:36.469717Z"
    },
    "papermill": {
     "duration": 0.046927,
     "end_time": "2023-12-27T14:49:36.473360",
     "exception": false,
     "start_time": "2023-12-27T14:49:36.426433",
     "status": "completed"
    },
    "tags": []
   },
   "outputs": [
    {
     "data": {
      "text/plain": [
       "1.0"
      ]
     },
     "execution_count": 46,
     "metadata": {},
     "output_type": "execute_result"
    }
   ],
   "source": [
    "accuracy_score(y_train, y_train_pred)"
   ]
  },
  {
   "cell_type": "code",
   "execution_count": 47,
   "id": "35bbce33",
   "metadata": {
    "execution": {
     "iopub.execute_input": "2023-12-27T14:49:36.544256Z",
     "iopub.status.busy": "2023-12-27T14:49:36.543839Z",
     "iopub.status.idle": "2023-12-27T14:49:36.551809Z",
     "shell.execute_reply": "2023-12-27T14:49:36.550766Z"
    },
    "papermill": {
     "duration": 0.046096,
     "end_time": "2023-12-27T14:49:36.554235",
     "exception": false,
     "start_time": "2023-12-27T14:49:36.508139",
     "status": "completed"
    },
    "tags": []
   },
   "outputs": [
    {
     "data": {
      "text/plain": [
       "0.744258872651357"
      ]
     },
     "execution_count": 47,
     "metadata": {},
     "output_type": "execute_result"
    }
   ],
   "source": [
    "accuracy_score(y_test, y_test_pred)"
   ]
  },
  {
   "cell_type": "markdown",
   "id": "5067d271",
   "metadata": {
    "papermill": {
     "duration": 0.034489,
     "end_time": "2023-12-27T14:49:36.623699",
     "exception": false,
     "start_time": "2023-12-27T14:49:36.589210",
     "status": "completed"
    },
    "tags": []
   },
   "source": [
    "- A clear scenario of overfitting is evident, as the model significantly underperformed on unseen testing data."
   ]
  },
  {
   "cell_type": "markdown",
   "id": "0edb0c1b",
   "metadata": {
    "papermill": {
     "duration": 0.0343,
     "end_time": "2023-12-27T14:49:36.692793",
     "exception": false,
     "start_time": "2023-12-27T14:49:36.658493",
     "status": "completed"
    },
    "tags": []
   },
   "source": [
    "**Observations:**\n",
    "\n",
    "- We can observe that **Training results** are **too good** to be true and the **Testing results** are mediocre. This is called **overfitting**.\n",
    "\n",
    "- On the test data report we can see that **class 0** is **performing well** while **class 1 is not**.\n",
    "\n",
    "- To **overcome** this problem, we are going to utilise **Hyper Parameter Tuning** with **cross validation**."
   ]
  },
  {
   "cell_type": "markdown",
   "id": "8f00e509",
   "metadata": {
    "papermill": {
     "duration": 0.034343,
     "end_time": "2023-12-27T14:49:36.761945",
     "exception": false,
     "start_time": "2023-12-27T14:49:36.727602",
     "status": "completed"
    },
    "tags": []
   },
   "source": [
    "## 9. Hyper Parameter Tuning"
   ]
  },
  {
   "cell_type": "markdown",
   "id": "502c4aa9",
   "metadata": {
    "papermill": {
     "duration": 0.034567,
     "end_time": "2023-12-27T14:49:36.831240",
     "exception": false,
     "start_time": "2023-12-27T14:49:36.796673",
     "status": "completed"
    },
    "tags": []
   },
   "source": [
    "- The **parameters** we are adjusting to enhance our model's performance."
   ]
  },
  {
   "cell_type": "code",
   "execution_count": 48,
   "id": "d529df21",
   "metadata": {
    "execution": {
     "iopub.execute_input": "2023-12-27T14:49:36.902605Z",
     "iopub.status.busy": "2023-12-27T14:49:36.902224Z",
     "iopub.status.idle": "2023-12-27T14:49:36.907337Z",
     "shell.execute_reply": "2023-12-27T14:49:36.906315Z"
    },
    "papermill": {
     "duration": 0.043605,
     "end_time": "2023-12-27T14:49:36.909543",
     "exception": false,
     "start_time": "2023-12-27T14:49:36.865938",
     "status": "completed"
    },
    "tags": []
   },
   "outputs": [],
   "source": [
    "param_dist = {'criterion':['gini','entropy'], \n",
    "              'max_depth':[1,2,3,4,5,6,7, None],\n",
    "             'max_leaf_nodes':[2,3]}"
   ]
  },
  {
   "cell_type": "code",
   "execution_count": 49,
   "id": "c09ffe47",
   "metadata": {
    "execution": {
     "iopub.execute_input": "2023-12-27T14:49:36.981010Z",
     "iopub.status.busy": "2023-12-27T14:49:36.980647Z",
     "iopub.status.idle": "2023-12-27T14:49:36.985716Z",
     "shell.execute_reply": "2023-12-27T14:49:36.984541Z"
    },
    "papermill": {
     "duration": 0.043822,
     "end_time": "2023-12-27T14:49:36.988133",
     "exception": false,
     "start_time": "2023-12-27T14:49:36.944311",
     "status": "completed"
    },
    "tags": []
   },
   "outputs": [],
   "source": [
    "grid = GridSearchCV(clf_n, param_grid = param_dist, cv = 10, n_jobs = -1)"
   ]
  },
  {
   "cell_type": "code",
   "execution_count": 50,
   "id": "a2123913",
   "metadata": {
    "execution": {
     "iopub.execute_input": "2023-12-27T14:49:37.060660Z",
     "iopub.status.busy": "2023-12-27T14:49:37.060276Z",
     "iopub.status.idle": "2023-12-27T14:49:42.072727Z",
     "shell.execute_reply": "2023-12-27T14:49:42.071618Z"
    },
    "papermill": {
     "duration": 5.05175,
     "end_time": "2023-12-27T14:49:42.075209",
     "exception": false,
     "start_time": "2023-12-27T14:49:37.023459",
     "status": "completed"
    },
    "tags": []
   },
   "outputs": [
    {
     "data": {
      "text/html": [
       "<style>#sk-container-id-2 {color: black;background-color: white;}#sk-container-id-2 pre{padding: 0;}#sk-container-id-2 div.sk-toggleable {background-color: white;}#sk-container-id-2 label.sk-toggleable__label {cursor: pointer;display: block;width: 100%;margin-bottom: 0;padding: 0.3em;box-sizing: border-box;text-align: center;}#sk-container-id-2 label.sk-toggleable__label-arrow:before {content: \"▸\";float: left;margin-right: 0.25em;color: #696969;}#sk-container-id-2 label.sk-toggleable__label-arrow:hover:before {color: black;}#sk-container-id-2 div.sk-estimator:hover label.sk-toggleable__label-arrow:before {color: black;}#sk-container-id-2 div.sk-toggleable__content {max-height: 0;max-width: 0;overflow: hidden;text-align: left;background-color: #f0f8ff;}#sk-container-id-2 div.sk-toggleable__content pre {margin: 0.2em;color: black;border-radius: 0.25em;background-color: #f0f8ff;}#sk-container-id-2 input.sk-toggleable__control:checked~div.sk-toggleable__content {max-height: 200px;max-width: 100%;overflow: auto;}#sk-container-id-2 input.sk-toggleable__control:checked~label.sk-toggleable__label-arrow:before {content: \"▾\";}#sk-container-id-2 div.sk-estimator input.sk-toggleable__control:checked~label.sk-toggleable__label {background-color: #d4ebff;}#sk-container-id-2 div.sk-label input.sk-toggleable__control:checked~label.sk-toggleable__label {background-color: #d4ebff;}#sk-container-id-2 input.sk-hidden--visually {border: 0;clip: rect(1px 1px 1px 1px);clip: rect(1px, 1px, 1px, 1px);height: 1px;margin: -1px;overflow: hidden;padding: 0;position: absolute;width: 1px;}#sk-container-id-2 div.sk-estimator {font-family: monospace;background-color: #f0f8ff;border: 1px dotted black;border-radius: 0.25em;box-sizing: border-box;margin-bottom: 0.5em;}#sk-container-id-2 div.sk-estimator:hover {background-color: #d4ebff;}#sk-container-id-2 div.sk-parallel-item::after {content: \"\";width: 100%;border-bottom: 1px solid gray;flex-grow: 1;}#sk-container-id-2 div.sk-label:hover label.sk-toggleable__label {background-color: #d4ebff;}#sk-container-id-2 div.sk-serial::before {content: \"\";position: absolute;border-left: 1px solid gray;box-sizing: border-box;top: 0;bottom: 0;left: 50%;z-index: 0;}#sk-container-id-2 div.sk-serial {display: flex;flex-direction: column;align-items: center;background-color: white;padding-right: 0.2em;padding-left: 0.2em;position: relative;}#sk-container-id-2 div.sk-item {position: relative;z-index: 1;}#sk-container-id-2 div.sk-parallel {display: flex;align-items: stretch;justify-content: center;background-color: white;position: relative;}#sk-container-id-2 div.sk-item::before, #sk-container-id-2 div.sk-parallel-item::before {content: \"\";position: absolute;border-left: 1px solid gray;box-sizing: border-box;top: 0;bottom: 0;left: 50%;z-index: -1;}#sk-container-id-2 div.sk-parallel-item {display: flex;flex-direction: column;z-index: 1;position: relative;background-color: white;}#sk-container-id-2 div.sk-parallel-item:first-child::after {align-self: flex-end;width: 50%;}#sk-container-id-2 div.sk-parallel-item:last-child::after {align-self: flex-start;width: 50%;}#sk-container-id-2 div.sk-parallel-item:only-child::after {width: 0;}#sk-container-id-2 div.sk-dashed-wrapped {border: 1px dashed gray;margin: 0 0.4em 0.5em 0.4em;box-sizing: border-box;padding-bottom: 0.4em;background-color: white;}#sk-container-id-2 div.sk-label label {font-family: monospace;font-weight: bold;display: inline-block;line-height: 1.2em;}#sk-container-id-2 div.sk-label-container {text-align: center;}#sk-container-id-2 div.sk-container {/* jupyter's `normalize.less` sets `[hidden] { display: none; }` but bootstrap.min.css set `[hidden] { display: none !important; }` so we also need the `!important` here to be able to override the default hidden behavior on the sphinx rendered scikit-learn.org. See: https://github.com/scikit-learn/scikit-learn/issues/21755 */display: inline-block !important;position: relative;}#sk-container-id-2 div.sk-text-repr-fallback {display: none;}</style><div id=\"sk-container-id-2\" class=\"sk-top-container\"><div class=\"sk-text-repr-fallback\"><pre>GridSearchCV(cv=10, estimator=DecisionTreeClassifier(random_state=0), n_jobs=-1,\n",
       "             param_grid={&#x27;criterion&#x27;: [&#x27;gini&#x27;, &#x27;entropy&#x27;],\n",
       "                         &#x27;max_depth&#x27;: [1, 2, 3, 4, 5, 6, 7, None],\n",
       "                         &#x27;max_leaf_nodes&#x27;: [2, 3]})</pre><b>In a Jupyter environment, please rerun this cell to show the HTML representation or trust the notebook. <br />On GitHub, the HTML representation is unable to render, please try loading this page with nbviewer.org.</b></div><div class=\"sk-container\" hidden><div class=\"sk-item sk-dashed-wrapped\"><div class=\"sk-label-container\"><div class=\"sk-label sk-toggleable\"><input class=\"sk-toggleable__control sk-hidden--visually\" id=\"sk-estimator-id-2\" type=\"checkbox\" ><label for=\"sk-estimator-id-2\" class=\"sk-toggleable__label sk-toggleable__label-arrow\">GridSearchCV</label><div class=\"sk-toggleable__content\"><pre>GridSearchCV(cv=10, estimator=DecisionTreeClassifier(random_state=0), n_jobs=-1,\n",
       "             param_grid={&#x27;criterion&#x27;: [&#x27;gini&#x27;, &#x27;entropy&#x27;],\n",
       "                         &#x27;max_depth&#x27;: [1, 2, 3, 4, 5, 6, 7, None],\n",
       "                         &#x27;max_leaf_nodes&#x27;: [2, 3]})</pre></div></div></div><div class=\"sk-parallel\"><div class=\"sk-parallel-item\"><div class=\"sk-item\"><div class=\"sk-label-container\"><div class=\"sk-label sk-toggleable\"><input class=\"sk-toggleable__control sk-hidden--visually\" id=\"sk-estimator-id-3\" type=\"checkbox\" ><label for=\"sk-estimator-id-3\" class=\"sk-toggleable__label sk-toggleable__label-arrow\">estimator: DecisionTreeClassifier</label><div class=\"sk-toggleable__content\"><pre>DecisionTreeClassifier(random_state=0)</pre></div></div></div><div class=\"sk-serial\"><div class=\"sk-item\"><div class=\"sk-estimator sk-toggleable\"><input class=\"sk-toggleable__control sk-hidden--visually\" id=\"sk-estimator-id-4\" type=\"checkbox\" ><label for=\"sk-estimator-id-4\" class=\"sk-toggleable__label sk-toggleable__label-arrow\">DecisionTreeClassifier</label><div class=\"sk-toggleable__content\"><pre>DecisionTreeClassifier(random_state=0)</pre></div></div></div></div></div></div></div></div></div></div>"
      ],
      "text/plain": [
       "GridSearchCV(cv=10, estimator=DecisionTreeClassifier(random_state=0), n_jobs=-1,\n",
       "             param_grid={'criterion': ['gini', 'entropy'],\n",
       "                         'max_depth': [1, 2, 3, 4, 5, 6, 7, None],\n",
       "                         'max_leaf_nodes': [2, 3]})"
      ]
     },
     "execution_count": 50,
     "metadata": {},
     "output_type": "execute_result"
    }
   ],
   "source": [
    "grid.fit(X_train, y_train)"
   ]
  },
  {
   "cell_type": "code",
   "execution_count": 51,
   "id": "58b82a1f",
   "metadata": {
    "execution": {
     "iopub.execute_input": "2023-12-27T14:49:42.148274Z",
     "iopub.status.busy": "2023-12-27T14:49:42.147856Z",
     "iopub.status.idle": "2023-12-27T14:49:42.154881Z",
     "shell.execute_reply": "2023-12-27T14:49:42.153840Z"
    },
    "papermill": {
     "duration": 0.046342,
     "end_time": "2023-12-27T14:49:42.157229",
     "exception": false,
     "start_time": "2023-12-27T14:49:42.110887",
     "status": "completed"
    },
    "tags": []
   },
   "outputs": [
    {
     "data": {
      "text/plain": [
       "{'criterion': 'gini', 'max_depth': 1, 'max_leaf_nodes': 2}"
      ]
     },
     "execution_count": 51,
     "metadata": {},
     "output_type": "execute_result"
    }
   ],
   "source": [
    "grid.best_params_"
   ]
  },
  {
   "cell_type": "markdown",
   "id": "bb917b24",
   "metadata": {
    "papermill": {
     "duration": 0.035589,
     "end_time": "2023-12-27T14:49:42.228642",
     "exception": false,
     "start_time": "2023-12-27T14:49:42.193053",
     "status": "completed"
    },
    "tags": []
   },
   "source": [
    "- These parameters represent the optimal configuration within our specified set, showcasing maximum model efficiency."
   ]
  },
  {
   "cell_type": "code",
   "execution_count": 52,
   "id": "d9637a23",
   "metadata": {
    "execution": {
     "iopub.execute_input": "2023-12-27T14:49:42.303670Z",
     "iopub.status.busy": "2023-12-27T14:49:42.302995Z",
     "iopub.status.idle": "2023-12-27T14:49:42.309667Z",
     "shell.execute_reply": "2023-12-27T14:49:42.308633Z"
    },
    "papermill": {
     "duration": 0.046506,
     "end_time": "2023-12-27T14:49:42.311771",
     "exception": false,
     "start_time": "2023-12-27T14:49:42.265265",
     "status": "completed"
    },
    "tags": []
   },
   "outputs": [
    {
     "data": {
      "text/plain": [
       "0.8397285548456057"
      ]
     },
     "execution_count": 52,
     "metadata": {},
     "output_type": "execute_result"
    }
   ],
   "source": [
    "grid.best_score_"
   ]
  },
  {
   "cell_type": "code",
   "execution_count": 53,
   "id": "514ea7d8",
   "metadata": {
    "execution": {
     "iopub.execute_input": "2023-12-27T14:49:42.387904Z",
     "iopub.status.busy": "2023-12-27T14:49:42.387515Z",
     "iopub.status.idle": "2023-12-27T14:49:42.395522Z",
     "shell.execute_reply": "2023-12-27T14:49:42.394406Z"
    },
    "papermill": {
     "duration": 0.049644,
     "end_time": "2023-12-27T14:49:42.398019",
     "exception": false,
     "start_time": "2023-12-27T14:49:42.348375",
     "status": "completed"
    },
    "tags": []
   },
   "outputs": [],
   "source": [
    "y_test_pred2 = grid.predict(X_test)"
   ]
  },
  {
   "cell_type": "code",
   "execution_count": 54,
   "id": "fd13b515",
   "metadata": {
    "execution": {
     "iopub.execute_input": "2023-12-27T14:49:42.473552Z",
     "iopub.status.busy": "2023-12-27T14:49:42.472850Z",
     "iopub.status.idle": "2023-12-27T14:49:42.480921Z",
     "shell.execute_reply": "2023-12-27T14:49:42.480139Z"
    },
    "papermill": {
     "duration": 0.048561,
     "end_time": "2023-12-27T14:49:42.483216",
     "exception": false,
     "start_time": "2023-12-27T14:49:42.434655",
     "status": "completed"
    },
    "tags": []
   },
   "outputs": [],
   "source": [
    "y_train_pred2 = grid.predict(X_train)"
   ]
  },
  {
   "cell_type": "code",
   "execution_count": 55,
   "id": "e0f6713b",
   "metadata": {
    "execution": {
     "iopub.execute_input": "2023-12-27T14:49:42.557096Z",
     "iopub.status.busy": "2023-12-27T14:49:42.556478Z",
     "iopub.status.idle": "2023-12-27T14:49:42.563513Z",
     "shell.execute_reply": "2023-12-27T14:49:42.562384Z"
    },
    "papermill": {
     "duration": 0.046523,
     "end_time": "2023-12-27T14:49:42.565834",
     "exception": false,
     "start_time": "2023-12-27T14:49:42.519311",
     "status": "completed"
    },
    "tags": []
   },
   "outputs": [
    {
     "name": "stdout",
     "output_type": "stream",
     "text": [
      "Testing Accuracy 0.8408141962421712\n"
     ]
    }
   ],
   "source": [
    "print('Testing Accuracy', accuracy_score(y_test, y_test_pred2))"
   ]
  },
  {
   "cell_type": "code",
   "execution_count": 56,
   "id": "7d01d8e9",
   "metadata": {
    "execution": {
     "iopub.execute_input": "2023-12-27T14:49:42.640647Z",
     "iopub.status.busy": "2023-12-27T14:49:42.639891Z",
     "iopub.status.idle": "2023-12-27T14:49:42.647179Z",
     "shell.execute_reply": "2023-12-27T14:49:42.646016Z"
    },
    "papermill": {
     "duration": 0.046989,
     "end_time": "2023-12-27T14:49:42.649460",
     "exception": false,
     "start_time": "2023-12-27T14:49:42.602471",
     "status": "completed"
    },
    "tags": []
   },
   "outputs": [
    {
     "name": "stdout",
     "output_type": "stream",
     "text": [
      "Training Accuracy 0.8397285304098147\n"
     ]
    }
   ],
   "source": [
    "print('Training Accuracy', accuracy_score(y_train, y_train_pred2))"
   ]
  },
  {
   "cell_type": "code",
   "execution_count": 57,
   "id": "ecddbf0b",
   "metadata": {
    "execution": {
     "iopub.execute_input": "2023-12-27T14:49:42.724313Z",
     "iopub.status.busy": "2023-12-27T14:49:42.723538Z",
     "iopub.status.idle": "2023-12-27T14:49:42.732239Z",
     "shell.execute_reply": "2023-12-27T14:49:42.731062Z"
    },
    "papermill": {
     "duration": 0.048787,
     "end_time": "2023-12-27T14:49:42.734451",
     "exception": false,
     "start_time": "2023-12-27T14:49:42.685664",
     "status": "completed"
    },
    "tags": []
   },
   "outputs": [
    {
     "name": "stdout",
     "output_type": "stream",
     "text": [
      "Difference b/w Training accuracy & Testing accuracy is 0.001085665832356586\n"
     ]
    }
   ],
   "source": [
    "print('Difference b/w Training accuracy & Testing accuracy is', (accuracy_score(y_test, y_test_pred2) - accuracy_score(y_train, y_train_pred2)))"
   ]
  },
  {
   "cell_type": "markdown",
   "id": "cc33f67a",
   "metadata": {
    "papermill": {
     "duration": 0.036401,
     "end_time": "2023-12-27T14:49:42.807756",
     "exception": false,
     "start_time": "2023-12-27T14:49:42.771355",
     "status": "completed"
    },
    "tags": []
   },
   "source": [
    "- The difference between training and testing accuracy is now less than **5%**, indicating **successful resolution of Overfitting**. The model has achieved a **Balanced fit**."
   ]
  },
  {
   "cell_type": "code",
   "execution_count": 58,
   "id": "6290fd45",
   "metadata": {
    "execution": {
     "iopub.execute_input": "2023-12-27T14:49:42.882843Z",
     "iopub.status.busy": "2023-12-27T14:49:42.882466Z",
     "iopub.status.idle": "2023-12-27T14:49:42.891493Z",
     "shell.execute_reply": "2023-12-27T14:49:42.890335Z"
    },
    "papermill": {
     "duration": 0.049014,
     "end_time": "2023-12-27T14:49:42.893794",
     "exception": false,
     "start_time": "2023-12-27T14:49:42.844780",
     "status": "completed"
    },
    "tags": []
   },
   "outputs": [
    {
     "data": {
      "text/plain": [
       "array([[1611,    0],\n",
       "       [ 305,    0]])"
      ]
     },
     "execution_count": 58,
     "metadata": {},
     "output_type": "execute_result"
    }
   ],
   "source": [
    "confusion_matrix(y_test, y_test_pred2)"
   ]
  },
  {
   "cell_type": "code",
   "execution_count": 59,
   "id": "11197205",
   "metadata": {
    "execution": {
     "iopub.execute_input": "2023-12-27T14:49:42.969267Z",
     "iopub.status.busy": "2023-12-27T14:49:42.968848Z",
     "iopub.status.idle": "2023-12-27T14:49:42.979667Z",
     "shell.execute_reply": "2023-12-27T14:49:42.978478Z"
    },
    "papermill": {
     "duration": 0.05141,
     "end_time": "2023-12-27T14:49:42.982086",
     "exception": false,
     "start_time": "2023-12-27T14:49:42.930676",
     "status": "completed"
    },
    "tags": []
   },
   "outputs": [
    {
     "name": "stdout",
     "output_type": "stream",
     "text": [
      "                         Predicted not fully paid  Predictrd Fully paid\n",
      "Actually not fully paid                      1611                     0\n",
      "Fully paid                                    305                     0\n"
     ]
    }
   ],
   "source": [
    "cm2 = pd.DataFrame(confusion_matrix(y_test, y_test_pred2))\n",
    "\n",
    "cm2.index = ['Actually not fully paid', 'Fully paid']\n",
    "cm2.columns = ['Predicted not fully paid', 'Predictrd Fully paid']\n",
    "print(cm2)"
   ]
  },
  {
   "cell_type": "markdown",
   "id": "6beef1d4",
   "metadata": {
    "papermill": {
     "duration": 0.036753,
     "end_time": "2023-12-27T14:49:43.055351",
     "exception": false,
     "start_time": "2023-12-27T14:49:43.018598",
     "status": "completed"
    },
    "tags": []
   },
   "source": [
    "- **1611** are the correct predictions and **305** are the false predictions."
   ]
  },
  {
   "cell_type": "markdown",
   "id": "98f02d9d",
   "metadata": {
    "papermill": {
     "duration": 0.036032,
     "end_time": "2023-12-27T14:49:43.127884",
     "exception": false,
     "start_time": "2023-12-27T14:49:43.091852",
     "status": "completed"
    },
    "tags": []
   },
   "source": [
    "## 10. Summarization\n",
    "\n",
    "**Observations:**\n",
    "\n",
    "- We conducted **Encoding** and **Scaling** on our **data** to ensure it does not impact our model outcome.\n",
    "- We split the data into traditional train_test_split and developed a **Decision Tree** model.\n",
    "- We encountered **Overfitting** issues and observed suboptimal results on the test set due to **undersampled data**.\n",
    "- By leveraging hyperparameter tuning through **GridSearchCV**, the testing accuracy experienced a substantial improvement, rising from **0.74** to **0.84**.\n",
    "- This enhancement underscores the model's efficiency when applied to previously **unseen data**.\n",
    "- **Correct predictions** increased from **1426** to **1611**, while the **Incorrect predictions** decreased from **490** to **305**.\n",
    " "
   ]
  }
 ],
 "metadata": {
  "kaggle": {
   "accelerator": "none",
   "dataSources": [
    {
     "datasetId": 103867,
     "sourceId": 246593,
     "sourceType": "datasetVersion"
    }
   ],
   "dockerImageVersionId": 30615,
   "isGpuEnabled": false,
   "isInternetEnabled": true,
   "language": "python",
   "sourceType": "notebook"
  },
  "kernelspec": {
   "display_name": "Python 3",
   "language": "python",
   "name": "python3"
  },
  "language_info": {
   "codemirror_mode": {
    "name": "ipython",
    "version": 3
   },
   "file_extension": ".py",
   "mimetype": "text/x-python",
   "name": "python",
   "nbconvert_exporter": "python",
   "pygments_lexer": "ipython3",
   "version": "3.10.12"
  },
  "papermill": {
   "default_parameters": {},
   "duration": 22.947544,
   "end_time": "2023-12-27T14:49:45.784907",
   "environment_variables": {},
   "exception": null,
   "input_path": "__notebook__.ipynb",
   "output_path": "__notebook__.ipynb",
   "parameters": {},
   "start_time": "2023-12-27T14:49:22.837363",
   "version": "2.4.0"
  }
 },
 "nbformat": 4,
 "nbformat_minor": 5
}
